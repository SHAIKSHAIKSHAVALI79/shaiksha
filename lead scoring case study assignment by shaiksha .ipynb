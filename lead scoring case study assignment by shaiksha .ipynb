{
 "cells": [
  {
   "cell_type": "code",
   "execution_count": null,
   "id": "e629cd15",
   "metadata": {},
   "outputs": [],
   "source": [
    "#importing libraries\n",
    "\n",
    "import numpy as np\n",
    "import pandas as pd\n",
    "import matplotlib.pyplot as plt\n",
    "import seaborn as sns\n",
    "\n",
    "import warnings\n",
    "warnings.filterwarnings('ignore')\n",
    "\n",
    "from sklearn.preprocessing import StandardScaler"
   ]
  },
  {
   "cell_type": "code",
   "execution_count": null,
   "id": "86e9b3a5",
   "metadata": {},
   "outputs": [],
   "source": [
    "# This Python 3 environment comes with many helpful analytics libraries installed\n",
    "# It is defined by the kaggle/python docker image: https://github.com/kaggle/docker-python\n",
    "# For example, here's several helpful packages to load in \n",
    "\n",
    "import numpy as np # linear algebra\n",
    "import pandas as pd # data processing, CSV file I/O (e.g. pd.read_csv)\n",
    "\n",
    "# Input data files are available in the \"../input/\" directory.\n",
    "# For example, running this (by clicking run or pressing Shift+Enter) will list all files under the input directory\n",
    "\n",
    "import os\n",
    "for dirname, _, filenames in os.walk('/kaggle/input'):\n",
    "    for filename in filenames:\n",
    "        print(os.path.join(dirname, filename))\n",
    "\n",
    "# Any results you write to the current directory are saved as output.\n",
    "/kaggle/input/leads-dataset/Leads Data Dictionary.xlsx\n",
    "/kaggle/input/leads-dataset/Leads.csv\n",
    "/kaggle/input/leads-dataset/image.jpg"
   ]
  },
  {
   "cell_type": "code",
   "execution_count": null,
   "id": "eae8e6dc",
   "metadata": {},
   "outputs": [],
   "source": [
    "#importing dataset to csv\n",
    "\n",
    "leads=pd.read_csv(\"/kaggle/input/leads-dataset/Leads.csv\")\n",
    "leads.head()"
   ]
  },
  {
   "cell_type": "code",
   "execution_count": null,
   "id": "2b3cfd50",
   "metadata": {},
   "outputs": [],
   "source": [
    "\tProspect ID\tLead Number\tLead Origin\tLead Source\tDo Not Email\tDo Not Call\tConverted\tTotalVisits\tTotal Time Spent on Website\tPage Views Per Visit\t...\tGet updates on DM Content\tLead Profile\tCity\tAsymmetrique Activity Index\tAsymmetrique Profile Index\tAsymmetrique Activity Score\tAsymmetrique Profile Score\tI agree to pay the amount through cheque\tA free copy of Mastering The Interview\tLast Notable Activity\n",
    "0\t7927b2df-8bba-4d29-b9a2-b6e0beafe620\t660737\tAPI\tOlark Chat\tNo\tNo\t0\t0.0\t0\t0.0\t...\tNo\tSelect\tSelect\t02.Medium\t02.Medium\t15.0\t15.0\tNo\tNo\tModified\n",
    "1\t2a272436-5132-4136-86fa-dcc88c88f482\t660728\tAPI\tOrganic Search\tNo\tNo\t0\t5.0\t674\t2.5\t...\tNo\tSelect\tSelect\t02.Medium\t02.Medium\t15.0\t15.0\tNo\tNo\tEmail Opened\n",
    "2\t8cc8c611-a219-4f35-ad23-fdfd2656bd8a\t660727\tLanding Page Submission\tDirect Traffic\tNo\tNo\t1\t2.0\t1532\t2.0\t...\tNo\tPotential Lead\tMumbai\t02.Medium\t01.High\t14.0\t20.0\tNo\tYes\tEmail Opened\n",
    "3\t0cc2df48-7cf4-4e39-9de9-19797f9b38cc\t660719\tLanding Page Submission\tDirect Traffic\tNo\tNo\t0\t1.0\t305\t1.0\t...\tNo\tSelect\tMumbai\t02.Medium\t01.High\t13.0\t17.0\tNo\tNo\tModified\n",
    "4\t3256f628-e534-4826-9d63-4a8b88782852\t660681\tLanding Page Submission\tGoogle\tNo\tNo\t1\t2.0\t1428\t1.0\t...\tNo\tSelect\tMumbai\t02.Medium\t01.High\t15.0\t18.0\tNo\tNo\tModified"
   ]
  },
  {
   "cell_type": "code",
   "execution_count": null,
   "id": "1ec80a28",
   "metadata": {},
   "outputs": [],
   "source": [
    "#checking total rows and cols in dataset\n",
    "leads.shape"
   ]
  },
  {
   "cell_type": "code",
   "execution_count": null,
   "id": "7b782bc4",
   "metadata": {},
   "outputs": [],
   "source": [
    "(9240, 37)\n",
    "This dataset has:\n",
    "\n",
    "9240 rows,\n",
    "37 columns\n"
   ]
  },
  {
   "cell_type": "code",
   "execution_count": null,
   "id": "a242e766",
   "metadata": {},
   "outputs": [],
   "source": [
    "#basic data check\n",
    "leads.info()\n",
    "<class 'pandas.core.frame.DataFrame'>\n",
    "RangeIndex: 9240 entries, 0 to 9239\n",
    "Data columns (total 37 columns):\n",
    "Prospect ID                                      9240 non-null object\n",
    "Lead Number                                      9240 non-null int64\n",
    "Lead Origin                                      9240 non-null object\n",
    "Lead Source                                      9204 non-null object\n",
    "Do Not Email                                     9240 non-null object\n",
    "Do Not Call                                      9240 non-null object\n",
    "Converted                                        9240 non-null int64\n",
    "TotalVisits                                      9103 non-null float64\n",
    "Total Time Spent on Website                      9240 non-null int64\n",
    "Page Views Per Visit                             9103 non-null float64\n",
    "Last Activity                                    9137 non-null object\n",
    "Country                                          6779 non-null object\n",
    "Specialization                                   7802 non-null object\n",
    "How did you hear about X Education               7033 non-null object\n",
    "What is your current occupation                  6550 non-null object\n",
    "What matters most to you in choosing a course    6531 non-null object\n",
    "Search                                           9240 non-null object\n",
    "Magazine                                         9240 non-null object\n",
    "Newspaper Article                                9240 non-null object\n",
    "X Education Forums                               9240 non-null object\n",
    "Newspaper                                        9240 non-null object\n",
    "Digital Advertisement                            9240 non-null object\n",
    "Through Recommendations                          9240 non-null object\n",
    "Receive More Updates About Our Courses           9240 non-null object\n",
    "Tags                                             5887 non-null object\n",
    "Lead Quality                                     4473 non-null object\n",
    "Update me on Supply Chain Content                9240 non-null object\n",
    "Get updates on DM Content                        9240 non-null object\n",
    "Lead Profile                                     6531 non-null object\n",
    "City                                             7820 non-null object\n",
    "Asymmetrique Activity Index                      5022 non-null object\n",
    "Asymmetrique Profile Index                       5022 non-null object\n",
    "Asymmetrique Activity Score                      5022 non-null float64\n",
    "Asymmetrique Profile Score                       5022 non-null float64\n",
    "I agree to pay the amount through cheque         9240 non-null object\n",
    "A free copy of Mastering The Interview           9240 non-null object\n",
    "Last Notable Activity                            9240 non-null object\n",
    "dtypes: float64(4), int64(3), object(30)\n",
    "memory usage: 2.6+ MB"
   ]
  },
  {
   "cell_type": "code",
   "execution_count": null,
   "id": "8e7ea4ac",
   "metadata": {},
   "outputs": [],
   "source": [
    "leads.describe()"
   ]
  },
  {
   "cell_type": "code",
   "execution_count": null,
   "id": "2bb6d8b5",
   "metadata": {},
   "outputs": [],
   "source": [
    "\tLead Number\tConverted\tTotalVisits\tTotal Time Spent on Website\tPage Views Per Visit\tAsymmetrique Activity Score\tAsymmetrique Profile Score\n",
    "count\t9240.000000\t9240.000000\t9103.000000\t9240.000000\t9103.000000\t5022.000000\t5022.000000\n",
    "mean\t617188.435606\t0.385390\t3.445238\t487.698268\t2.362820\t14.306252\t16.344883\n",
    "std\t23405.995698\t0.486714\t4.854853\t548.021466\t2.161418\t1.386694\t1.811395\n",
    "min\t579533.000000\t0.000000\t0.000000\t0.000000\t0.000000\t7.000000\t11.000000\n",
    "25%\t596484.500000\t0.000000\t1.000000\t12.000000\t1.000000\t14.000000\t15.000000\n",
    "50%\t615479.000000\t0.000000\t3.000000\t248.000000\t2.000000\t14.000000\t16.000000\n",
    "75%\t637387.250000\t1.000000\t5.000000\t936.000000\t3.000000\t15.000000\t18.000000\n",
    "max\t660737.000000\t1.000000\t251.000000\t2272.000000\t55.000000\t18.000000\t20.000000"
   ]
  },
  {
   "cell_type": "code",
   "execution_count": null,
   "id": "753ae2a7",
   "metadata": {},
   "outputs": [],
   "source": [
    "#check for duplicates\n",
    "sum(leads.duplicated(subset = 'Prospect ID')) == 0"
   ]
  },
  {
   "cell_type": "code",
   "execution_count": null,
   "id": "f5312658",
   "metadata": {},
   "outputs": [],
   "source": [
    "True\n",
    "No duplicate values in Prospect ID"
   ]
  },
  {
   "cell_type": "code",
   "execution_count": null,
   "id": "d3890e73",
   "metadata": {},
   "outputs": [],
   "source": [
    "#check for duplicates\n",
    "sum(leads.duplicated(subset = 'Lead Number')) == 0\n"
   ]
  },
  {
   "cell_type": "code",
   "execution_count": null,
   "id": "9b448d1c",
   "metadata": {},
   "outputs": [],
   "source": [
    "True\n",
    "No duplicate values in Lead Number\n",
    "\n",
    "Clearly Prospect ID & Lead Number are two variables that are just indicative of the ID number of the Contacted People & can be dropped."
   ]
  },
  {
   "cell_type": "code",
   "execution_count": null,
   "id": "5d6bff8e",
   "metadata": {},
   "outputs": [],
   "source": [
    "EXPLORATORY DATA ANALYSIS\n"
   ]
  },
  {
   "cell_type": "code",
   "execution_count": null,
   "id": "c9e76e5e",
   "metadata": {},
   "outputs": [],
   "source": [
    "Data Cleaning & Treatment:\n"
   ]
  },
  {
   "cell_type": "code",
   "execution_count": null,
   "id": "bc3e00cb",
   "metadata": {},
   "outputs": [],
   "source": [
    "#dropping Lead Number and Prospect ID since they have all unique values\n",
    "\n",
    "leads.drop(['Prospect ID', 'Lead Number'], 1, inplace = True)\n"
   ]
  },
  {
   "cell_type": "code",
   "execution_count": null,
   "id": "075b337d",
   "metadata": {},
   "outputs": [],
   "source": [
    "#Converting 'Select' values to NaN.\n",
    "\n",
    "leads = leads.replace('Select', np.nan)\n"
   ]
  },
  {
   "cell_type": "code",
   "execution_count": null,
   "id": "d0c24430",
   "metadata": {},
   "outputs": [],
   "source": [
    "#checking null values in each rows\n",
    "\n",
    "leads.isnull().sum()\n"
   ]
  },
  {
   "cell_type": "code",
   "execution_count": null,
   "id": "f054bbeb",
   "metadata": {},
   "outputs": [],
   "source": [
    "Lead Origin                                         0\n",
    "Lead Source                                        36\n",
    "Do Not Email                                        0\n",
    "Do Not Call                                         0\n",
    "Converted                                           0\n",
    "TotalVisits                                       137\n",
    "Total Time Spent on Website                         0\n",
    "Page Views Per Visit                              137\n",
    "Last Activity                                     103\n",
    "Country                                          2461\n",
    "Specialization                                   3380\n",
    "How did you hear about X Education               7250\n",
    "What is your current occupation                  2690\n",
    "What matters most to you in choosing a course    2709\n",
    "Search                                              0\n",
    "Magazine                                            0\n",
    "Newspaper Article                                   0\n",
    "X Education Forums                                  0\n",
    "Newspaper                                           0\n",
    "Digital Advertisement                               0\n",
    "Through Recommendations                             0\n",
    "Receive More Updates About Our Courses              0\n",
    "Tags                                             3353\n",
    "Lead Quality                                     4767\n",
    "Update me on Supply Chain Content                   0\n",
    "Get updates on DM Content                           0\n",
    "Lead Profile                                     6855\n",
    "City                                             3669\n",
    "Asymmetrique Activity Index                      4218\n",
    "Asymmetrique Profile Index                       4218\n",
    "Asymmetrique Activity Score                      4218\n",
    "Asymmetrique Profile Score                       4218\n",
    "I agree to pay the amount through cheque            0\n",
    "A free copy of Mastering The Interview              0\n",
    "Last Notable Activity                               0\n",
    "dtype: int64\n"
   ]
  },
  {
   "cell_type": "code",
   "execution_count": null,
   "id": "2f6599d6",
   "metadata": {},
   "outputs": [],
   "source": [
    "#checking percentage of null values in each column\n",
    "\n",
    "round(100*(leads.isnull().sum()/len(leads.index)), 2)"
   ]
  },
  {
   "cell_type": "code",
   "execution_count": null,
   "id": "ad0b25a9",
   "metadata": {},
   "outputs": [],
   "source": [
    "Lead Origin                                       0.00\n",
    "Lead Source                                       0.39\n",
    "Do Not Email                                      0.00\n",
    "Do Not Call                                       0.00\n",
    "Converted                                         0.00\n",
    "TotalVisits                                       1.48\n",
    "Total Time Spent on Website                       0.00\n",
    "Page Views Per Visit                              1.48\n",
    "Last Activity                                     1.11\n",
    "Country                                          26.63\n",
    "Specialization                                   36.58\n",
    "How did you hear about X Education               78.46\n",
    "What is your current occupation                  29.11\n",
    "What matters most to you in choosing a course    29.32\n",
    "Search                                            0.00\n",
    "Magazine                                          0.00\n",
    "Newspaper Article                                 0.00\n",
    "X Education Forums                                0.00\n",
    "Newspaper                                         0.00\n",
    "Digital Advertisement                             0.00\n",
    "Through Recommendations                           0.00\n",
    "Receive More Updates About Our Courses            0.00\n",
    "Tags                                             36.29\n",
    "Lead Quality                                     51.59\n",
    "Update me on Supply Chain Content                 0.00\n",
    "Get updates on DM Content                         0.00\n",
    "Lead Profile                                     74.19\n",
    "City                                             39.71\n",
    "Asymmetrique Activity Index                      45.65\n",
    "Asymmetrique Profile Index                       45.65\n",
    "Asymmetrique Activity Score                      45.65\n",
    "Asymmetrique Profile Score                       45.65\n",
    "I agree to pay the amount through cheque          0.00\n",
    "A free copy of Mastering The Interview            0.00\n",
    "Last Notable Activity                             0.00\n",
    "dtype: float64\n"
   ]
  },
  {
   "cell_type": "code",
   "execution_count": null,
   "id": "6ebf0280",
   "metadata": {},
   "outputs": [],
   "source": [
    "#dropping cols with more than 45% missing values\n",
    "\n",
    "cols=leads.columns\n",
    "\n",
    "for i in cols:\n",
    "    if((100*(leads[i].isnull().sum()/len(leads.index))) >= 45):\n",
    "        leads.drop(i, 1, inplace = True)"
   ]
  },
  {
   "cell_type": "code",
   "execution_count": null,
   "id": "0d75d7e3",
   "metadata": {},
   "outputs": [],
   "source": [
    "#checking null values percentage\n",
    "\n",
    "round(100*(leads.isnull().sum()/len(leads.index)), 2)\n"
   ]
  },
  {
   "cell_type": "code",
   "execution_count": null,
   "id": "5f1ec3f3",
   "metadata": {},
   "outputs": [],
   "source": [
    "Lead Origin                                       0.00\n",
    "Lead Source                                       0.39\n",
    "Do Not Email                                      0.00\n",
    "Do Not Call                                       0.00\n",
    "Converted                                         0.00\n",
    "TotalVisits                                       1.48\n",
    "Total Time Spent on Website                       0.00\n",
    "Page Views Per Visit                              1.48\n",
    "Last Activity                                     1.11\n",
    "Country                                          26.63\n",
    "Specialization                                   36.58\n",
    "What is your current occupation                  29.11\n",
    "What matters most to you in choosing a course    29.32\n",
    "Search                                            0.00\n",
    "Magazine                                          0.00\n",
    "Newspaper Article                                 0.00\n",
    "X Education Forums                                0.00\n",
    "Newspaper                                         0.00\n",
    "Digital Advertisement                             0.00\n",
    "Through Recommendations                           0.00\n",
    "Receive More Updates About Our Courses            0.00\n",
    "Tags                                             36.29\n",
    "Update me on Supply Chain Content                 0.00\n",
    "Get updates on DM Content                         0.00\n",
    "City                                             39.71\n",
    "I agree to pay the amount through cheque          0.00\n",
    "A free copy of Mastering The Interview            0.00\n",
    "Last Notable Activity                             0.00\n",
    "dtype: float64"
   ]
  },
  {
   "cell_type": "code",
   "execution_count": null,
   "id": "7fd99e19",
   "metadata": {},
   "outputs": [],
   "source": [
    "Categorical Attributes Analysis"
   ]
  },
  {
   "cell_type": "code",
   "execution_count": null,
   "id": "5dfa59c1",
   "metadata": {},
   "outputs": [],
   "source": [
    "#checking value counts of Country column\n",
    "\n",
    "leads['Country'].value_counts(dropna=False)"
   ]
  },
  {
   "cell_type": "code",
   "execution_count": null,
   "id": "736ddae8",
   "metadata": {},
   "outputs": [],
   "source": [
    "India                   6492\n",
    "NaN                     2461\n",
    "United States             69\n",
    "United Arab Emirates      53\n",
    "Singapore                 24\n",
    "Saudi Arabia              21\n",
    "United Kingdom            15\n",
    "Australia                 13\n",
    "Qatar                     10\n",
    "Bahrain                    7\n",
    "Hong Kong                  7\n",
    "France                     6\n",
    "Oman                       6\n",
    "unknown                    5\n",
    "Nigeria                    4\n",
    "Kuwait                     4\n",
    "Germany                    4\n",
    "South Africa               4\n",
    "Canada                     4\n",
    "Sweden                     3\n",
    "Belgium                    2\n",
    "Netherlands                2\n",
    "Uganda                     2\n",
    "China                      2\n",
    "Philippines                2\n",
    "Italy                      2\n",
    "Ghana                      2\n",
    "Asia/Pacific Region        2\n",
    "Bangladesh                 2\n",
    "Liberia                    1\n",
    "Kenya                      1\n",
    "Tanzania                   1\n",
    "Switzerland                1\n",
    "Sri Lanka                  1\n",
    "Russia                     1\n",
    "Indonesia                  1\n",
    "Denmark                    1\n",
    "Malaysia                   1\n",
    "Vietnam                    1\n",
    "Name: Country, dtype: int64"
   ]
  },
  {
   "cell_type": "code",
   "execution_count": null,
   "id": "13c0f8f3",
   "metadata": {},
   "outputs": [],
   "source": [
    "#plotting spread of Country columnn \n",
    "plt.figure(figsize=(15,5))\n",
    "s1=sns.countplot(leads.Country, hue=leads.Converted)\n",
    "s1.set_xticklabels(s1.get_xticklabels(),rotation=90)\n",
    "plt.show()\n"
   ]
  },
  {
   "cell_type": "code",
   "execution_count": null,
   "id": "f393127e",
   "metadata": {},
   "outputs": [],
   "source": [
    "# Since India is the most common occurence among the non-missing values we can impute all missing values with India\n",
    "\n",
    "leads['Country'] = leads['Country'].replace(np.nan,'India')\n"
   ]
  },
  {
   "cell_type": "code",
   "execution_count": null,
   "id": "4ff0e570",
   "metadata": {},
   "outputs": [],
   "source": [
    "#plotting spread of Country columnn after replacing NaN values\n",
    "\n",
    "plt.figure(figsize=(15,5))\n",
    "s1=sns.countplot(leads.Country, hue=leads.Converted)\n",
    "s1.set_xticklabels(s1.get_xticklabels(),rotation=90)\n",
    "plt.show()\n",
    "\n",
    "As we can see the Number of Values for India are quite high (nearly 97% of the Data), this column can be dropped"
   ]
  },
  {
   "cell_type": "code",
   "execution_count": null,
   "id": "61844bdc",
   "metadata": {},
   "outputs": [],
   "source": [
    "#creating a list of columns to be droppped\n",
    "\n",
    "cols_to_drop=['Country']\n"
   ]
  },
  {
   "cell_type": "code",
   "execution_count": null,
   "id": "78b9cc4a",
   "metadata": {},
   "outputs": [],
   "source": [
    "#checking value counts of \"City\" column\n",
    "\n",
    "leads['City'].value_counts(dropna=False)\n"
   ]
  },
  {
   "cell_type": "code",
   "execution_count": null,
   "id": "529b24a4",
   "metadata": {},
   "outputs": [],
   "source": [
    "NaN                            3669\n",
    "Mumbai                         3222\n",
    "Thane & Outskirts               752\n",
    "Other Cities                    686\n",
    "Other Cities of Maharashtra     457\n",
    "Other Metro Cities              380\n",
    "Tier II Cities                   74\n",
    "Name: City, dtype: int64\n"
   ]
  },
  {
   "cell_type": "code",
   "execution_count": null,
   "id": "6f601390",
   "metadata": {},
   "outputs": [],
   "source": [
    "leads['City'] = leads['City'].replace(np.nan,'Mumbai')\n"
   ]
  },
  {
   "cell_type": "code",
   "execution_count": null,
   "id": "a7b8c94a",
   "metadata": {},
   "outputs": [],
   "source": [
    "#plotting spread of City columnn after replacing NaN values\n",
    "\n",
    "plt.figure(figsize=(10,5))\n",
    "s1=sns.countplot(leads.City, hue=leads.Converted)\n",
    "s1.set_xticklabels(s1.get_xticklabels(),rotation=90)\n",
    "plt.show()\n"
   ]
  },
  {
   "cell_type": "code",
   "execution_count": null,
   "id": "0c8e5768",
   "metadata": {},
   "outputs": [],
   "source": [
    "#checking value counts of Specialization column\n",
    "\n",
    "leads['Specialization'].value_counts(dropna=False)\n"
   ]
  },
  {
   "cell_type": "code",
   "execution_count": null,
   "id": "29f90344",
   "metadata": {},
   "outputs": [],
   "source": [
    "NaN                                  3380\n",
    "Finance Management                    976\n",
    "Human Resource Management             848\n",
    "Marketing Management                  838\n",
    "Operations Management                 503\n",
    "Business Administration               403\n",
    "IT Projects Management                366\n",
    "Supply Chain Management               349\n",
    "Banking, Investment And Insurance     338\n",
    "Media and Advertising                 203\n",
    "Travel and Tourism                    203\n",
    "International Business                178\n",
    "Healthcare Management                 159\n",
    "Hospitality Management                114\n",
    "E-COMMERCE                            112\n",
    "Retail Management                     100\n",
    "Rural and Agribusiness                 73\n",
    "E-Business                             57\n",
    "Services Excellence                    40\n",
    "Name: Specialization, dtype: int64\n"
   ]
  },
  {
   "cell_type": "code",
   "execution_count": null,
   "id": "9223dfa7",
   "metadata": {},
   "outputs": [],
   "source": [
    "# Lead may not have mentioned specialization because it was not in the list or maybe they are a students \n",
    "# and don't have a specialization yet. So we will replace NaN values here with 'Not Specified'\n",
    "\n",
    "leads['Specialization'] = leads['Specialization'].replace(np.nan, 'Not Specified')\n"
   ]
  },
  {
   "cell_type": "code",
   "execution_count": null,
   "id": "f7069db9",
   "metadata": {},
   "outputs": [],
   "source": [
    "#plotting spread of Specialization columnn \n",
    "\n",
    "plt.figure(figsize=(15,5))\n",
    "s1=sns.countplot(leads.Specialization, hue=leads.Converted)\n",
    "s1.set_xticklabels(s1.get_xticklabels(),rotation=90)\n",
    "plt.show()\n",
    "\n",
    "We see that specialization with Management in them have higher number of leads as well as leads converted. So this is definitely a significant variable and should not be dropped."
   ]
  },
  {
   "cell_type": "code",
   "execution_count": null,
   "id": "5154225d",
   "metadata": {},
   "outputs": [],
   "source": [
    "#combining Management Specializations because they show similar trends\n",
    "\n",
    "leads['Specialization'] = leads['Specialization'].replace(['Finance Management','Human Resource Management',\n",
    "                                                           'Marketing Management','Operations Management',\n",
    "                                                           'IT Projects Management','Supply Chain Management',\n",
    "                                                    'Healthcare Management','Hospitality Management',\n",
    "                                                           'Retail Management'] ,'Management_Specializations')  \n"
   ]
  },
  {
   "cell_type": "code",
   "execution_count": null,
   "id": "522b6c77",
   "metadata": {},
   "outputs": [],
   "source": [
    "#visualizing count of Variable based on Converted value\n",
    "\n",
    "\n",
    "plt.figure(figsize=(15,5))\n",
    "s1=sns.countplot(leads.Specialization, hue=leads.Converted)\n",
    "s1.set_xticklabels(s1.get_xticklabels(),rotation=90)\n",
    "plt.show()\n"
   ]
  },
  {
   "cell_type": "code",
   "execution_count": null,
   "id": "3561f253",
   "metadata": {},
   "outputs": [],
   "source": [
    "#What is your current occupation\n",
    "\n",
    "leads['What is your current occupation'].value_counts(dropna=False)"
   ]
  },
  {
   "cell_type": "code",
   "execution_count": null,
   "id": "cc0f8185",
   "metadata": {},
   "outputs": [],
   "source": [
    "Unemployed              5600\n",
    "NaN                     2690\n",
    "Working Professional     706\n",
    "Student                  210\n",
    "Other                     16\n",
    "Housewife                 10\n",
    "Businessman                8\n",
    "Name: What is your current occupation, dtype: int64\n"
   ]
  },
  {
   "cell_type": "code",
   "execution_count": null,
   "id": "0d616abc",
   "metadata": {},
   "outputs": [],
   "source": [
    "#imputing Nan values with mode \"Unemployed\"\n",
    "\n",
    "leads['What is your current occupation'] = leads['What is your current occupation'].replace(np.nan, 'Unemployed')\n"
   ]
  },
  {
   "cell_type": "code",
   "execution_count": null,
   "id": "5869eb4d",
   "metadata": {},
   "outputs": [],
   "source": [
    "#checking count of values\n",
    "leads['What is your current occupation'].value_counts(dropna=False)"
   ]
  },
  {
   "cell_type": "code",
   "execution_count": null,
   "id": "b11ecea8",
   "metadata": {},
   "outputs": [],
   "source": [
    "Unemployed              8290\n",
    "Working Professional     706\n",
    "Student                  210\n",
    "Other                     16\n",
    "Housewife                 10\n",
    "Businessman                8\n",
    "Name: What is your current occupation, dtype: int64"
   ]
  },
  {
   "cell_type": "code",
   "execution_count": null,
   "id": "60e0345d",
   "metadata": {},
   "outputs": [],
   "source": [
    "#visualizing count of Variable based on Converted value\n",
    "\n",
    "s1=sns.countplot(leads['What is your current occupation'], hue=leads.Converted)\n",
    "s1.set_xticklabels(s1.get_xticklabels(),rotation=90)\n",
    "plt.show()\n",
    "\n",
    "Working Professionals going for the course have high chances of joining it.\n",
    "Unemployed leads are the most in terms of Absolute numbers.\n"
   ]
  },
  {
   "cell_type": "code",
   "execution_count": null,
   "id": "003f64e9",
   "metadata": {},
   "outputs": [],
   "source": [
    "#checking value counts\n",
    "\n",
    "leads['What matters most to you in choosing a course'].value_counts(dropna=False)"
   ]
  },
  {
   "cell_type": "code",
   "execution_count": null,
   "id": "f08bf823",
   "metadata": {},
   "outputs": [],
   "source": [
    "Better Career Prospects      6528\n",
    "NaN                          2709\n",
    "Flexibility & Convenience       2\n",
    "Other                           1\n",
    "Name: What matters most to you in choosing a course, dtype: int64\n"
   ]
  },
  {
   "cell_type": "code",
   "execution_count": null,
   "id": "cee20560",
   "metadata": {},
   "outputs": [],
   "source": [
    "#replacing Nan values with Mode \"Better Career Prospects\"\n",
    "\n",
    "leads['What matters most to you in choosing a course'] = leads['What matters most to you in choosing a course'].replace(np.nan,'Better Career Prospects')\n"
   ]
  },
  {
   "cell_type": "code",
   "execution_count": null,
   "id": "e008ec75",
   "metadata": {},
   "outputs": [],
   "source": [
    "#visualizing count of Variable based on Converted value\n",
    "\n",
    "s1=sns.countplot(leads['What matters most to you in choosing a course'], hue=leads.Converted)\n",
    "s1.set_xticklabels(s1.get_xticklabels(),rotation=90)\n",
    "plt.show()\n"
   ]
  },
  {
   "cell_type": "code",
   "execution_count": null,
   "id": "89f2ed67",
   "metadata": {},
   "outputs": [],
   "source": [
    "#checking value counts of variable\n",
    "leads['What matters most to you in choosing a course'].value_counts(dropna=False)"
   ]
  },
  {
   "cell_type": "code",
   "execution_count": null,
   "id": "28b8f313",
   "metadata": {},
   "outputs": [],
   "source": [
    "Better Career Prospects      9237\n",
    "Flexibility & Convenience       2\n",
    "Other                           1\n",
    "Name: What matters most to you in choosing a course, dtype: int64\n"
   ]
  },
  {
   "cell_type": "code",
   "execution_count": null,
   "id": "e0dc4404",
   "metadata": {},
   "outputs": [],
   "source": [
    "#Here again we have another Column that is worth Dropping. So we Append to the cols_to_drop List\n",
    "cols_to_drop.append('What matters most to you in choosing a course')\n",
    "cols_to_drop"
   ]
  },
  {
   "cell_type": "code",
   "execution_count": null,
   "id": "616cb8f6",
   "metadata": {},
   "outputs": [],
   "source": [
    "['Country', 'What matters most to you in choosing a course']\n"
   ]
  },
  {
   "cell_type": "code",
   "execution_count": null,
   "id": "847374c4",
   "metadata": {},
   "outputs": [],
   "source": [
    "#checking value counts of Tag variable\n",
    "leads['Tags'].value_counts(dropna=False)\n"
   ]
  },
  {
   "cell_type": "code",
   "execution_count": null,
   "id": "db65ec8d",
   "metadata": {},
   "outputs": [],
   "source": [
    "NaN                                                  3353\n",
    "Will revert after reading the email                  2072\n",
    "Ringing                                              1203\n",
    "Interested in other courses                           513\n",
    "Already a student                                     465\n",
    "Closed by Horizzon                                    358\n",
    "switched off                                          240\n",
    "Busy                                                  186\n",
    "Lost to EINS                                          175\n",
    "Not doing further education                           145\n",
    "Interested  in full time MBA                          117\n",
    "Graduation in progress                                111\n",
    "invalid number                                         83\n",
    "Diploma holder (Not Eligible)                          63\n",
    "wrong number given                                     47\n",
    "opp hangup                                             33\n",
    "number not provided                                    27\n",
    "in touch with EINS                                     12\n",
    "Lost to Others                                          7\n",
    "Want to take admission but has financial problems       6\n",
    "Still Thinking                                          6\n",
    "Interested in Next batch                                5\n",
    "In confusion whether part time or DLP                   5\n",
    "Lateral student                                         3\n",
    "University not recognized                               2\n",
    "Shall take in the next coming month                     2\n",
    "Recognition issue (DEC approval)                        1\n",
    "Name: Tags, dtype: int64\n"
   ]
  },
  {
   "cell_type": "code",
   "execution_count": null,
   "id": "ccd11ae1",
   "metadata": {},
   "outputs": [],
   "source": [
    "#replacing Nan values with \"Not Specified\"\n",
    "leads['Tags'] = leads['Tags'].replace(np.nan,'Not Specified')\n"
   ]
  },
  {
   "cell_type": "code",
   "execution_count": null,
   "id": "ca1e50e1",
   "metadata": {},
   "outputs": [],
   "source": [
    "#visualizing count of Variable based on Converted value\n",
    "\n",
    "plt.figure(figsize=(15,5))\n",
    "s1=sns.countplot(leads['Tags'], hue=leads.Converted)\n",
    "s1.set_xticklabels(s1.get_xticklabels(),rotation=90)\n",
    "plt.show()\n"
   ]
  },
  {
   "cell_type": "code",
   "execution_count": null,
   "id": "04374056",
   "metadata": {},
   "outputs": [],
   "source": [
    "#replacing tags with low frequency with \"Other Tags\"\n",
    "leads['Tags'] = leads['Tags'].replace(['In confusion whether part time or DLP', 'in touch with EINS','Diploma holder (Not Eligible)',\n",
    "                                     'Approached upfront','Graduation in progress','number not provided', 'opp hangup','Still Thinking',\n",
    "                                    'Lost to Others','Shall take in the next coming month','Lateral student','Interested in Next batch',\n",
    "                                    'Recognition issue (DEC approval)','Want to take admission but has financial problems',\n",
    "                                    'University not recognized'], 'Other_Tags')\n",
    "\n",
    "leads['Tags'] = leads['Tags'].replace(['switched off',\n",
    "                                      'Already a student',\n",
    "                                       'Not doing further education',\n",
    "                                       'invalid number',\n",
    "                                       'wrong number given',\n",
    "                                       'Interested  in full time MBA'] , 'Other_Tags')\n"
   ]
  },
  {
   "cell_type": "code",
   "execution_count": null,
   "id": "f50a8314",
   "metadata": {},
   "outputs": [],
   "source": [
    "#checking percentage of missing values\n",
    "round(100*(leads.isnull().sum()/len(leads.index)), 2)"
   ]
  },
  {
   "cell_type": "code",
   "execution_count": null,
   "id": "d6c665a9",
   "metadata": {},
   "outputs": [],
   "source": [
    "Lead Origin                                      0.00\n",
    "Lead Source                                      0.39\n",
    "Do Not Email                                     0.00\n",
    "Do Not Call                                      0.00\n",
    "Converted                                        0.00\n",
    "TotalVisits                                      1.48\n",
    "Total Time Spent on Website                      0.00\n",
    "Page Views Per Visit                             1.48\n",
    "Last Activity                                    1.11\n",
    "Country                                          0.00\n",
    "Specialization                                   0.00\n",
    "What is your current occupation                  0.00\n",
    "What matters most to you in choosing a course    0.00\n",
    "Search                                           0.00\n",
    "Magazine                                         0.00\n",
    "Newspaper Article                                0.00\n",
    "X Education Forums                               0.00\n",
    "Newspaper                                        0.00\n",
    "Digital Advertisement                            0.00\n",
    "Through Recommendations                          0.00\n",
    "Receive More Updates About Our Courses           0.00\n",
    "Tags                                             0.00\n",
    "Update me on Supply Chain Content                0.00\n",
    "Get updates on DM Content                        0.00\n",
    "City                                             0.00\n",
    "I agree to pay the amount through cheque         0.00\n",
    "A free copy of Mastering The Interview           0.00\n",
    "Last Notable Activity                            0.00\n",
    "dtype: float64\n"
   ]
  },
  {
   "cell_type": "code",
   "execution_count": null,
   "id": "b6e4ba18",
   "metadata": {},
   "outputs": [],
   "source": [
    "#checking value counts of Lead Source column\n",
    "\n",
    "leads['Lead Source'].value_counts(dropna=False)\n"
   ]
  },
  {
   "cell_type": "code",
   "execution_count": null,
   "id": "ae564d99",
   "metadata": {},
   "outputs": [],
   "source": [
    "Google               2868\n",
    "Direct Traffic       2543\n",
    "Olark Chat           1755\n",
    "Organic Search       1154\n",
    "Reference             534\n",
    "Welingak Website      142\n",
    "Referral Sites        125\n",
    "Facebook               55\n",
    "NaN                    36\n",
    "bing                    6\n",
    "google                  5\n",
    "Click2call              4\n",
    "Live Chat               2\n",
    "Press_Release           2\n",
    "Social Media            2\n",
    "testone                 1\n",
    "NC_EDM                  1\n",
    "blog                    1\n",
    "youtubechannel          1\n",
    "WeLearn                 1\n",
    "welearnblog_Home        1\n",
    "Pay per Click Ads       1\n",
    "Name: Lead Source, dtype: int64\n"
   ]
  },
  {
   "cell_type": "code",
   "execution_count": null,
   "id": "004b1b8c",
   "metadata": {},
   "outputs": [],
   "source": [
    "#replacing Nan Values and combining low frequency values\n",
    "leads['Lead Source'] = leads['Lead Source'].replace(np.nan,'Others')\n",
    "leads['Lead Source'] = leads['Lead Source'].replace('google','Google')\n",
    "leads['Lead Source'] = leads['Lead Source'].replace('Facebook','Social Media')\n",
    "leads['Lead Source'] = leads['Lead Source'].replace(['bing','Click2call','Press_Release',\n",
    "                                                     'youtubechannel','welearnblog_Home',\n",
    "                                                     'WeLearn','blog','Pay per Click Ads',\n",
    "                                                    'testone','NC_EDM'] ,'Others')                                                   \n",
    "We can group some of the lower frequency occuring labels under a common label 'Others'"
   ]
  },
  {
   "cell_type": "code",
   "execution_count": null,
   "id": "e355826f",
   "metadata": {},
   "outputs": [],
   "source": [
    "#visualizing count of Variable based on Converted value\n",
    "plt.figure(figsize=(15,5))\n",
    "s1=sns.countplot(leads['Lead Source'], hue=leads.Converted)\n",
    "s1.set_xticklabels(s1.get_xticklabels(),rotation=90)\n",
    "plt.show()\n"
   ]
  },
  {
   "cell_type": "code",
   "execution_count": null,
   "id": "64553ac8",
   "metadata": {},
   "outputs": [],
   "source": [
    "Inference\n",
    "Maximum number of leads are generated by Google and Direct traffic.\n",
    "Conversion Rate of reference leads and leads through welingak website is high.\n",
    "To improve overall lead conversion rate, focus should be on improving lead converion of olark chat, organic search, direct traffic, and google leads and generate more leads from reference and welingak website.\n"
   ]
  },
  {
   "cell_type": "code",
   "execution_count": null,
   "id": "b0c0b895",
   "metadata": {},
   "outputs": [],
   "source": [
    "# Last Activity:\n",
    "\n",
    "leads['Last Activity'].value_counts(dropna=False)\n"
   ]
  },
  {
   "cell_type": "code",
   "execution_count": null,
   "id": "6009be86",
   "metadata": {},
   "outputs": [],
   "source": [
    "Email Opened                    3437\n",
    "SMS Sent                        2745\n",
    "Olark Chat Conversation          973\n",
    "Page Visited on Website          640\n",
    "Converted to Lead                428\n",
    "Email Bounced                    326\n",
    "Email Link Clicked               267\n",
    "Form Submitted on Website        116\n",
    "NaN                              103\n",
    "Unreachable                       93\n",
    "Unsubscribed                      61\n",
    "Had a Phone Conversation          30\n",
    "Approached upfront                 9\n",
    "View in browser link Clicked       6\n",
    "Email Marked Spam                  2\n",
    "Email Received                     2\n",
    "Visited Booth in Tradeshow         1\n",
    "Resubscribed to emails             1\n",
    "Name: Last Activity, dtype: int64\n"
   ]
  },
  {
   "cell_type": "code",
   "execution_count": null,
   "id": "a9b52378",
   "metadata": {},
   "outputs": [],
   "source": [
    "#replacing Nan Values and combining low frequency values\n",
    "\n",
    "leads['Last Activity'] = leads['Last Activity'].replace(np.nan,'Others')\n",
    "leads['Last Activity'] = leads['Last Activity'].replace(['Unreachable','Unsubscribed',\n",
    "                                                        'Had a Phone Conversation', \n",
    "                                                        'Approached upfront',\n",
    "                                                        'View in browser link Clicked',       \n",
    "                                                        'Email Marked Spam',                  \n",
    "                                                        'Email Received','Resubscribed to emails',\n",
    "                                                         'Visited Booth in Tradeshow'],'Others')\n"
   ]
  },
  {
   "cell_type": "code",
   "execution_count": null,
   "id": "0a61279f",
   "metadata": {},
   "outputs": [],
   "source": [
    "# Last Activity:\n",
    "\n",
    "leads['Last Activity'].value_counts(dropna=False)\n"
   ]
  },
  {
   "cell_type": "code",
   "execution_count": null,
   "id": "f3aafe34",
   "metadata": {},
   "outputs": [],
   "source": [
    "Email Opened                 3437\n",
    "SMS Sent                     2745\n",
    "Olark Chat Conversation       973\n",
    "Page Visited on Website       640\n",
    "Converted to Lead             428\n",
    "Email Bounced                 326\n",
    "Others                        308\n",
    "Email Link Clicked            267\n",
    "Form Submitted on Website     116\n",
    "Name: Last Activity, dtype: int64\n"
   ]
  },
  {
   "cell_type": "code",
   "execution_count": null,
   "id": "5a9c6111",
   "metadata": {},
   "outputs": [],
   "source": [
    "#Check the Null Values in All Columns:\n",
    "round(100*(leads.isnull().sum()/len(leads.index)), 2)"
   ]
  },
  {
   "cell_type": "code",
   "execution_count": null,
   "id": "21e41393",
   "metadata": {},
   "outputs": [],
   "source": [
    "Lead Origin                                      0.00\n",
    "Lead Source                                      0.00\n",
    "Do Not Email                                     0.00\n",
    "Do Not Call                                      0.00\n",
    "Converted                                        0.00\n",
    "TotalVisits                                      1.48\n",
    "Total Time Spent on Website                      0.00\n",
    "Page Views Per Visit                             1.48\n",
    "Last Activity                                    0.00\n",
    "Country                                          0.00\n",
    "Specialization                                   0.00\n",
    "What is your current occupation                  0.00\n",
    "What matters most to you in choosing a course    0.00\n",
    "Search                                           0.00\n",
    "Magazine                                         0.00\n",
    "Newspaper Article                                0.00\n",
    "X Education Forums                               0.00\n",
    "Newspaper                                        0.00\n",
    "Digital Advertisement                            0.00\n",
    "Through Recommendations                          0.00\n",
    "Receive More Updates About Our Courses           0.00\n",
    "Tags                                             0.00\n",
    "Update me on Supply Chain Content                0.00\n",
    "Get updates on DM Content                        0.00\n",
    "City                                             0.00\n",
    "I agree to pay the amount through cheque         0.00\n",
    "A free copy of Mastering The Interview           0.00\n",
    "Last Notable Activity                            0.00\n",
    "dtype: float64\n"
   ]
  },
  {
   "cell_type": "code",
   "execution_count": null,
   "id": "2509293f",
   "metadata": {},
   "outputs": [],
   "source": [
    "#Drop all rows which have Nan Values. Since the number of Dropped rows is less than 2%, it will not affect the model\n",
    "leads = leads.dropna()\n"
   ]
  },
  {
   "cell_type": "code",
   "execution_count": null,
   "id": "f2fc86fa",
   "metadata": {},
   "outputs": [],
   "source": [
    "#Checking percentage of Null Values in All Columns:\n",
    "round(100*(leads.isnull().sum()/len(leads.index)), 2)"
   ]
  },
  {
   "cell_type": "code",
   "execution_count": null,
   "id": "3ccb3eac",
   "metadata": {},
   "outputs": [],
   "source": [
    "Lead Origin                                      0.0\n",
    "Lead Source                                      0.0\n",
    "Do Not Email                                     0.0\n",
    "Do Not Call                                      0.0\n",
    "Converted                                        0.0\n",
    "TotalVisits                                      0.0\n",
    "Total Time Spent on Website                      0.0\n",
    "Page Views Per Visit                             0.0\n",
    "Last Activity                                    0.0\n",
    "Country                                          0.0\n",
    "Specialization                                   0.0\n",
    "What is your current occupation                  0.0\n",
    "What matters most to you in choosing a course    0.0\n",
    "Search                                           0.0\n",
    "Magazine                                         0.0\n",
    "Newspaper Article                                0.0\n",
    "X Education Forums                               0.0\n",
    "Newspaper                                        0.0\n",
    "Digital Advertisement                            0.0\n",
    "Through Recommendations                          0.0\n",
    "Receive More Updates About Our Courses           0.0\n",
    "Tags                                             0.0\n",
    "Update me on Supply Chain Content                0.0\n",
    "Get updates on DM Content                        0.0\n",
    "City                                             0.0\n",
    "I agree to pay the amount through cheque         0.0\n",
    "A free copy of Mastering The Interview           0.0\n",
    "Last Notable Activity                            0.0\n",
    "dtype: float64\n"
   ]
  },
  {
   "cell_type": "code",
   "execution_count": null,
   "id": "013683cd",
   "metadata": {},
   "outputs": [],
   "source": [
    "#Lead Origin\n",
    "leads['Lead Origin'].value_counts(dropna=False)\n"
   ]
  },
  {
   "cell_type": "code",
   "execution_count": null,
   "id": "b6ef00c1",
   "metadata": {},
   "outputs": [],
   "source": [
    "Landing Page Submission    4886\n",
    "API                        3578\n",
    "Lead Add Form               608\n",
    "Lead Import                  31\n",
    "Name: Lead Origin, dtype: int64\n"
   ]
  },
  {
   "cell_type": "code",
   "execution_count": null,
   "id": "d52aa650",
   "metadata": {},
   "outputs": [],
   "source": [
    "#visualizing count of Variable based on Converted value\n",
    "\n",
    "plt.figure(figsize=(8,5))\n",
    "s1=sns.countplot(leads['Lead Origin'], hue=leads.Converted)\n",
    "s1.set_xticklabels(s1.get_xticklabels(),rotation=90)\n",
    "plt.show()\n"
   ]
  },
  {
   "cell_type": "code",
   "execution_count": null,
   "id": "7cc78037",
   "metadata": {},
   "outputs": [],
   "source": [
    "Inference\n",
    "API and Landing Page Submission bring higher number of leads as well as conversion.\n",
    "Lead Add Form has a very high conversion rate but count of leads are not very high.\n",
    "Lead Import and Quick Add Form get very few leads.\n",
    "In order to improve overall lead conversion rate, we have to improve lead converion of API and Landing Page Submission origin and generate more leads from Lead Add Form.\n"
   ]
  },
  {
   "cell_type": "code",
   "execution_count": null,
   "id": "7bb4f111",
   "metadata": {},
   "outputs": [],
   "source": [
    "#Do Not Email & Do Not Call\n",
    "#visualizing count of Variable based on Converted value\n",
    "\n",
    "plt.figure(figsize=(15,5))\n",
    "\n",
    "ax1=plt.subplot(1, 2, 1)\n",
    "ax1=sns.countplot(leads['Do Not Call'], hue=leads.Converted)\n",
    "ax1.set_xticklabels(ax1.get_xticklabels(),rotation=90)\n",
    "\n",
    "ax2=plt.subplot(1, 2, 2)\n",
    "ax2=sns.countplot(leads['Do Not Email'], hue=leads.Converted)\n",
    "ax2.set_xticklabels(ax2.get_xticklabels(),rotation=90)\n",
    "plt.show()\n"
   ]
  },
  {
   "cell_type": "code",
   "execution_count": null,
   "id": "4efe200e",
   "metadata": {},
   "outputs": [],
   "source": [
    "#checking value counts for Do Not Call\n",
    "leads['Do Not Call'].value_counts(dropna=False)\n"
   ]
  },
  {
   "cell_type": "code",
   "execution_count": null,
   "id": "e0501ad4",
   "metadata": {},
   "outputs": [],
   "source": [
    "No     9101\n",
    "Yes       2\n",
    "Name: Do Not Call, dtype: int64"
   ]
  },
  {
   "cell_type": "code",
   "execution_count": null,
   "id": "c5d6575a",
   "metadata": {},
   "outputs": [],
   "source": [
    "#checking value counts for Do Not Email\n",
    "leads['Do Not Email'].value_counts(dropna=False)"
   ]
  },
  {
   "cell_type": "code",
   "execution_count": null,
   "id": "47d2ca05",
   "metadata": {},
   "outputs": [],
   "source": [
    "No     8379\n",
    "Yes     724\n",
    "Name: Do Not Email, dtype: int64\n",
    "We Can append the Do Not Call Column to the list of Columns to be Dropped since > 90% is of only one Value\n",
    "\n"
   ]
  },
  {
   "cell_type": "code",
   "execution_count": null,
   "id": "5fb6ba55",
   "metadata": {},
   "outputs": [],
   "source": [
    "cols_to_drop.append('Do Not Call')\n",
    "cols_to_drop"
   ]
  },
  {
   "cell_type": "code",
   "execution_count": null,
   "id": "7eca0d5f",
   "metadata": {},
   "outputs": [],
   "source": [
    "['Country', 'What matters most to you in choosing a course', 'Do Not Call']"
   ]
  },
  {
   "cell_type": "code",
   "execution_count": null,
   "id": "23b29fd2",
   "metadata": {},
   "outputs": [],
   "source": [
    "# IMBALANCED VARIABLES THAT CAN BE DROPPED\n"
   ]
  },
  {
   "cell_type": "code",
   "execution_count": null,
   "id": "181392a2",
   "metadata": {},
   "outputs": [],
   "source": [
    "leads.Search.value_counts(dropna=False)\n"
   ]
  },
  {
   "cell_type": "code",
   "execution_count": null,
   "id": "50f8112b",
   "metadata": {},
   "outputs": [],
   "source": [
    "No     9089\n",
    "Yes      14\n",
    "Name: Search, dtype: int64\n"
   ]
  },
  {
   "cell_type": "code",
   "execution_count": null,
   "id": "10fecac5",
   "metadata": {},
   "outputs": [],
   "source": [
    "leads.Magazine.value_counts(dropna=False)\n"
   ]
  },
  {
   "cell_type": "code",
   "execution_count": null,
   "id": "bfa9860a",
   "metadata": {},
   "outputs": [],
   "source": [
    "No    9103\n",
    "Name: Magazine, dtype: int64\n"
   ]
  },
  {
   "cell_type": "code",
   "execution_count": null,
   "id": "1f38e1a0",
   "metadata": {},
   "outputs": [],
   "source": [
    "leads['Newspaper Article'].value_counts(dropna=False)\n"
   ]
  },
  {
   "cell_type": "code",
   "execution_count": null,
   "id": "613bd433",
   "metadata": {},
   "outputs": [],
   "source": [
    "No     9101\n",
    "Yes       2\n",
    "Name: Newspaper Article, dtype: int64"
   ]
  },
  {
   "cell_type": "code",
   "execution_count": null,
   "id": "ba24b0b4",
   "metadata": {},
   "outputs": [],
   "source": [
    "leads['X Education Forums'].value_counts(dropna=False)\n"
   ]
  },
  {
   "cell_type": "code",
   "execution_count": null,
   "id": "e958d967",
   "metadata": {},
   "outputs": [],
   "source": [
    "No     9102\n",
    "Yes       1\n",
    "Name: X Education Forums, dtype: int64\n"
   ]
  },
  {
   "cell_type": "code",
   "execution_count": null,
   "id": "d7bb7767",
   "metadata": {},
   "outputs": [],
   "source": [
    "leads['Newspaper'].value_counts(dropna=False)"
   ]
  },
  {
   "cell_type": "code",
   "execution_count": null,
   "id": "a3c15dec",
   "metadata": {},
   "outputs": [],
   "source": [
    "No     9102\n",
    "Yes       1\n",
    "Name: Newspaper, dtype: int64\n"
   ]
  },
  {
   "cell_type": "code",
   "execution_count": null,
   "id": "5909d1e8",
   "metadata": {},
   "outputs": [],
   "source": [
    "leads['Digital Advertisement'].value_counts(dropna=False)"
   ]
  },
  {
   "cell_type": "code",
   "execution_count": null,
   "id": "a9afea56",
   "metadata": {},
   "outputs": [],
   "source": [
    "No     9099\n",
    "Yes       4\n",
    "Name: Digital Advertisement, dtype: int64\n"
   ]
  },
  {
   "cell_type": "code",
   "execution_count": null,
   "id": "d7ee6c17",
   "metadata": {},
   "outputs": [],
   "source": [
    "leads['Through Recommendations'].value_counts(dropna=False)\n"
   ]
  },
  {
   "cell_type": "code",
   "execution_count": null,
   "id": "8f527956",
   "metadata": {},
   "outputs": [],
   "source": [
    "No     9096\n",
    "Yes       7\n",
    "Name: Through Recommendations, dtype: int64"
   ]
  },
  {
   "cell_type": "code",
   "execution_count": null,
   "id": "43e0eda3",
   "metadata": {},
   "outputs": [],
   "source": [
    "leads['Receive More Updates About Our Courses'].value_counts(dropna=False)\n"
   ]
  },
  {
   "cell_type": "code",
   "execution_count": null,
   "id": "cac6c5b8",
   "metadata": {},
   "outputs": [],
   "source": [
    "No    9103\n",
    "Name: Receive More Updates About Our Courses, dtype: int64\n"
   ]
  },
  {
   "cell_type": "code",
   "execution_count": null,
   "id": "c5240e35",
   "metadata": {},
   "outputs": [],
   "source": [
    "leads['Update me on Supply Chain Content'].value_counts(dropna=False)"
   ]
  },
  {
   "cell_type": "code",
   "execution_count": null,
   "id": "2153757c",
   "metadata": {},
   "outputs": [],
   "source": [
    "No    9103\n",
    "Name: Update me on Supply Chain Content, dtype: int64\n"
   ]
  },
  {
   "cell_type": "code",
   "execution_count": null,
   "id": "dc6b694d",
   "metadata": {},
   "outputs": [],
   "source": [
    "leads['Get updates on DM Content'].value_counts(dropna=False)"
   ]
  },
  {
   "cell_type": "code",
   "execution_count": null,
   "id": "75a238f3",
   "metadata": {},
   "outputs": [],
   "source": [
    "No    9103\n",
    "Name: Get updates on DM Content, dtype: int64\n"
   ]
  },
  {
   "cell_type": "code",
   "execution_count": null,
   "id": "910b7288",
   "metadata": {},
   "outputs": [],
   "source": [
    "leads['I agree to pay the amount through cheque'].value_counts(dropna=False)\n"
   ]
  },
  {
   "cell_type": "code",
   "execution_count": null,
   "id": "2c5877f4",
   "metadata": {},
   "outputs": [],
   "source": [
    "No    9103\n",
    "Name: I agree to pay the amount through cheque, dtype: int64"
   ]
  },
  {
   "cell_type": "code",
   "execution_count": null,
   "id": "ec49b407",
   "metadata": {},
   "outputs": [],
   "source": [
    "leads['A free copy of Mastering The Interview'].value_counts(dropna=False)\n"
   ]
  },
  {
   "cell_type": "code",
   "execution_count": null,
   "id": "c9ae129f",
   "metadata": {},
   "outputs": [],
   "source": [
    "No     6215\n",
    "Yes    2888\n",
    "Name: A free copy of Mastering The Interview, dtype: int64\n"
   ]
  },
  {
   "cell_type": "code",
   "execution_count": null,
   "id": "5442842f",
   "metadata": {},
   "outputs": [],
   "source": [
    "#adding imbalanced columns to the list of columns to be dropped\n",
    "\n",
    "cols_to_drop.extend(['Search','Magazine','Newspaper Article','X Education Forums','Newspaper',\n",
    "                 'Digital Advertisement','Through Recommendations','Receive More Updates About Our Courses',\n",
    "                 'Update me on Supply Chain Content',\n",
    "                 'Get updates on DM Content','I agree to pay the amount through cheque'])"
   ]
  },
  {
   "cell_type": "code",
   "execution_count": null,
   "id": "ab67865e",
   "metadata": {},
   "outputs": [],
   "source": [
    "#checking value counts of last Notable Activity\n",
    "leads['Last Notable Activity'].value_counts()\n"
   ]
  },
  {
   "cell_type": "code",
   "execution_count": null,
   "id": "a9e6b434",
   "metadata": {},
   "outputs": [],
   "source": [
    "Modified                        3270\n",
    "Email Opened                    2827\n",
    "SMS Sent                        2172\n",
    "Page Visited on Website          318\n",
    "Olark Chat Conversation          183\n",
    "Email Link Clicked               173\n",
    "Email Bounced                     60\n",
    "Unsubscribed                      47\n",
    "Unreachable                       32\n",
    "Had a Phone Conversation          14\n",
    "Email Marked Spam                  2\n",
    "Form Submitted on Website          1\n",
    "View in browser link Clicked       1\n",
    "Approached upfront                 1\n",
    "Resubscribed to emails             1\n",
    "Email Received                     1\n",
    "Name: Last Notable Activity, dtype: int64\n"
   ]
  },
  {
   "cell_type": "code",
   "execution_count": null,
   "id": "dad7bb84",
   "metadata": {},
   "outputs": [],
   "source": [
    "#clubbing lower frequency values\n",
    "\n",
    "leads['Last Notable Activity'] = leads['Last Notable Activity'].replace(['Had a Phone Conversation',\n",
    "                                                                       'Email Marked Spam',\n",
    "                                                                         'Unreachable',\n",
    "                                                                         'Unsubscribed',\n",
    "                                                                         'Email Bounced',                                                                    \n",
    "                                                                       'Resubscribed to emails',\n",
    "                                                                       'View in browser link Clicked',\n",
    "                                                                       'Approached upfront', \n",
    "                                                                       'Form Submitted on Website', \n",
    "                                                                       'Email Received'],'Other_Notable_activity')"
   ]
  },
  {
   "cell_type": "code",
   "execution_count": null,
   "id": "9b96b517",
   "metadata": {},
   "outputs": [],
   "source": [
    "#visualizing count of Variable based on Converted value\n",
    "\n",
    "plt.figure(figsize = (14,5))\n",
    "ax1=sns.countplot(x = \"Last Notable Activity\", hue = \"Converted\", data = leads)\n",
    "ax1.set_xticklabels(ax1.get_xticklabels(),rotation=90)\n",
    "plt.show()\n",
    "\n"
   ]
  },
  {
   "cell_type": "code",
   "execution_count": null,
   "id": "8daceaa7",
   "metadata": {},
   "outputs": [],
   "source": [
    "#checking value counts for variable\n",
    "\n",
    "leads['Last Notable Activity'].value_counts()"
   ]
  },
  {
   "cell_type": "code",
   "execution_count": null,
   "id": "9c143461",
   "metadata": {},
   "outputs": [],
   "source": [
    "Modified                   3270\n",
    "Email Opened               2827\n",
    "SMS Sent                   2172\n",
    "Page Visited on Website     318\n",
    "Olark Chat Conversation     183\n",
    "Email Link Clicked          173\n",
    "Other_Notable_activity      160\n",
    "Name: Last Notable Activity, dtype: int64\n"
   ]
  },
  {
   "cell_type": "code",
   "execution_count": null,
   "id": "59da5b3b",
   "metadata": {},
   "outputs": [],
   "source": [
    "#list of columns to be dropped\n",
    "cols_to_drop"
   ]
  },
  {
   "cell_type": "code",
   "execution_count": null,
   "id": "917fb011",
   "metadata": {},
   "outputs": [],
   "source": [
    "['Country',\n",
    " 'What matters most to you in choosing a course',\n",
    " 'Do Not Call',\n",
    " 'Search',\n",
    " 'Magazine',\n",
    " 'Newspaper Article',\n",
    " 'X Education Forums',\n",
    " 'Newspaper',\n",
    " 'Digital Advertisement',\n",
    " 'Through Recommendations',\n",
    " 'Receive More Updates About Our Courses',\n",
    " 'Update me on Supply Chain Content',\n",
    " 'Get updates on DM Content',\n",
    " 'I agree to pay the amount through cheque']\n"
   ]
  },
  {
   "cell_type": "code",
   "execution_count": null,
   "id": "c815c22e",
   "metadata": {},
   "outputs": [],
   "source": [
    "#dropping columns\n",
    "leads = leads.drop(cols_to_drop,1)\n",
    "leads.info()\n",
    "<class 'pandas.core.frame.DataFrame'>\n",
    "Int64Index: 9103 entries, 0 to 9239\n",
    "Data columns (total 14 columns):\n",
    "Lead Origin                               9103 non-null object\n",
    "Lead Source                               9103 non-null object\n",
    "Do Not Email                              9103 non-null object\n",
    "Converted                                 9103 non-null int64\n",
    "TotalVisits                               9103 non-null float64\n",
    "Total Time Spent on Website               9103 non-null int64\n",
    "Page Views Per Visit                      9103 non-null float64\n",
    "Last Activity                             9103 non-null object\n",
    "Specialization                            9103 non-null object\n",
    "What is your current occupation           9103 non-null object\n",
    "Tags                                      9103 non-null object\n",
    "City                                      9103 non-null object\n",
    "A free copy of Mastering The Interview    9103 non-null object\n",
    "Last Notable Activity                     9103 non-null object\n",
    "dtypes: float64(2), int64(2), object(10)\n",
    "memory usage: 1.4+ MB\n"
   ]
  },
  {
   "cell_type": "code",
   "execution_count": null,
   "id": "9ae51c95",
   "metadata": {},
   "outputs": [],
   "source": [
    "Numerical Attributes Analysis:"
   ]
  },
  {
   "cell_type": "code",
   "execution_count": null,
   "id": "b64be6ca",
   "metadata": {},
   "outputs": [],
   "source": [
    "#Check the % of Data that has Converted Values = 1:\n",
    "\n",
    "Converted = (sum(leads['Converted'])/len(leads['Converted'].index))*100\n",
    "Converted"
   ]
  },
  {
   "cell_type": "code",
   "execution_count": null,
   "id": "a62e47c8",
   "metadata": {},
   "outputs": [],
   "source": [
    "38.02043282434362\n"
   ]
  },
  {
   "cell_type": "code",
   "execution_count": null,
   "id": "7316e1a7",
   "metadata": {},
   "outputs": [],
   "source": [
    "#Checking correlations of numeric values\n",
    "# figure size\n",
    "plt.figure(figsize=(10,8))\n",
    "\n",
    "# heatmap\n",
    "sns.heatmap(leads.corr(), cmap=\"YlGnBu\", annot=True)\n",
    "plt.show()\n"
   ]
  },
  {
   "cell_type": "code",
   "execution_count": null,
   "id": "95da0715",
   "metadata": {},
   "outputs": [],
   "source": [
    "#Total Visits\n",
    "#visualizing spread of variable\n",
    "\n",
    "plt.figure(figsize=(6,4))\n",
    "sns.boxplot(y=leads['TotalVisits'])\n",
    "plt.show()\n",
    "\n",
    "We can see presence of outliers here\n",
    "\n"
   ]
  },
  {
   "cell_type": "code",
   "execution_count": null,
   "id": "a7a2f539",
   "metadata": {},
   "outputs": [],
   "source": [
    "#checking percentile values for \"Total Visits\"\n",
    "\n",
    "leads['TotalVisits'].describe(percentiles=[0.05,.25, .5, .75, .90, .95, .99])\n"
   ]
  },
  {
   "cell_type": "code",
   "execution_count": null,
   "id": "cda7198e",
   "metadata": {},
   "outputs": [],
   "source": [
    "count    9103.000000\n",
    "mean        3.445238\n",
    "std         4.854853\n",
    "min         0.000000\n",
    "5%          0.000000\n",
    "25%         1.000000\n",
    "50%         3.000000\n",
    "75%         5.000000\n",
    "90%         7.000000\n",
    "95%        10.000000\n",
    "99%        17.000000\n",
    "max       251.000000\n",
    "Name: TotalVisits, dtype: float64\n"
   ]
  },
  {
   "cell_type": "code",
   "execution_count": null,
   "id": "7ad84155",
   "metadata": {},
   "outputs": [],
   "source": [
    "#Outlier Treatment: Remove top & bottom 1% of the Column Outlier values\n",
    "\n",
    "Q3 = leads.TotalVisits.quantile(0.99)\n",
    "leads = leads[(leads.TotalVisits <= Q3)]\n",
    "Q1 = leads.TotalVisits.quantile(0.01)\n",
    "leads = leads[(leads.TotalVisits >= Q1)]\n",
    "sns.boxplot(y=leads['TotalVisits'])\n",
    "plt.show()\n"
   ]
  },
  {
   "cell_type": "code",
   "execution_count": null,
   "id": "e913c06b",
   "metadata": {},
   "outputs": [],
   "source": [
    "leads.shape\n"
   ]
  },
  {
   "cell_type": "code",
   "execution_count": null,
   "id": "b5d01577",
   "metadata": {},
   "outputs": [],
   "source": [
    "(9020, 14)\n",
    "Check for the Next Numerical Column:"
   ]
  },
  {
   "cell_type": "code",
   "execution_count": null,
   "id": "0e820d13",
   "metadata": {},
   "outputs": [],
   "source": [
    "#checking percentiles for \"Total Time Spent on Website\"\n",
    "\n",
    "leads['Total Time Spent on Website'].describe(percentiles=[0.05,.25, .5, .75, .90, .95, .99])\n"
   ]
  },
  {
   "cell_type": "code",
   "execution_count": null,
   "id": "0e4b5151",
   "metadata": {},
   "outputs": [],
   "source": [
    "count    9020.000000\n",
    "mean      479.759534\n",
    "std       544.688157\n",
    "min         0.000000\n",
    "5%          0.000000\n",
    "25%         7.000000\n",
    "50%       243.000000\n",
    "75%       915.250000\n",
    "90%      1371.000000\n",
    "95%      1554.050000\n",
    "99%      1836.620000\n",
    "max      2272.000000\n",
    "Name: Total Time Spent on Website, dtype: float64\n"
   ]
  },
  {
   "cell_type": "code",
   "execution_count": null,
   "id": "1588d2a7",
   "metadata": {},
   "outputs": [],
   "source": [
    "#visualizing spread of numeric variable\n",
    "\n",
    "plt.figure(figsize=(6,4))\n",
    "sns.boxplot(y=leads['Total Time Spent on Website'])\n",
    "plt.show()\n",
    "\n",
    "Since there are no major Outliers for the above variable we don't do any Outlier Treatment for this above Column\n",
    "\n",
    "Check for Page Views Per Visit:\n",
    "\n"
   ]
  },
  {
   "cell_type": "code",
   "execution_count": null,
   "id": "062bc210",
   "metadata": {},
   "outputs": [],
   "source": [
    "#checking spread of \"Page Views Per Visit\"\n",
    "\n",
    "leads['Page Views Per Visit'].describe()\n"
   ]
  },
  {
   "cell_type": "code",
   "execution_count": null,
   "id": "ed195fb5",
   "metadata": {},
   "outputs": [],
   "source": [
    "count    9020.000000\n",
    "mean        2.337271\n",
    "std         2.062363\n",
    "min         0.000000\n",
    "25%         1.000000\n",
    "50%         2.000000\n",
    "75%         3.000000\n",
    "max        16.000000\n",
    "Name: Page Views Per Visit, dtype: float64"
   ]
  },
  {
   "cell_type": "code",
   "execution_count": null,
   "id": "b8b33e8e",
   "metadata": {},
   "outputs": [],
   "source": [
    "#visualizing spread of numeric variable\n",
    "\n",
    "plt.figure(figsize=(6,4))\n",
    "sns.boxplot(y=leads['Page Views Per Visit'])\n",
    "plt.show()\n"
   ]
  },
  {
   "cell_type": "code",
   "execution_count": null,
   "id": "6fd130e1",
   "metadata": {},
   "outputs": [],
   "source": [
    "#Outlier Treatment: Remove top & bottom 1% \n",
    "\n",
    "Q3 = leads['Page Views Per Visit'].quantile(0.99)\n",
    "leads = leads[leads['Page Views Per Visit'] <= Q3]\n",
    "Q1 = leads['Page Views Per Visit'].quantile(0.01)\n",
    "leads = leads[leads['Page Views Per Visit'] >= Q1]\n",
    "sns.boxplot(y=leads['Page Views Per Visit'])\n",
    "plt.show()\n"
   ]
  },
  {
   "cell_type": "code",
   "execution_count": null,
   "id": "d42a7e59",
   "metadata": {},
   "outputs": [],
   "source": [
    "leads.shape\n"
   ]
  },
  {
   "cell_type": "code",
   "execution_count": null,
   "id": "4de558b5",
   "metadata": {},
   "outputs": [],
   "source": [
    "(8953, 14)"
   ]
  },
  {
   "cell_type": "code",
   "execution_count": null,
   "id": "d25aaa3b",
   "metadata": {},
   "outputs": [],
   "source": [
    "#checking Spread of \"Total Visits\" vs Converted variable\n",
    "sns.boxplot(y = 'TotalVisits', x = 'Converted', data = leads)\n",
    "plt.show()\n",
    "\n",
    "Inference\n",
    "\n",
    "Median for converted and not converted leads are the close.\n",
    "Nothng conclusive can be said on the basis of Total Visits\n"
   ]
  },
  {
   "cell_type": "code",
   "execution_count": null,
   "id": "882f3050",
   "metadata": {},
   "outputs": [],
   "source": [
    "#checking Spread of \"Total Time Spent on Website\" vs Converted variable\n",
    "\n",
    "sns.boxplot(x=leads.Converted, y=leads['Total Time Spent on Website'])\n",
    "plt.show()\n",
    "\n",
    "Inference\n",
    "\n",
    "Leads spending more time on the website are more likely to be converted.\n",
    "Website should be made more engaging to make leads spend more time.\n"
   ]
  },
  {
   "cell_type": "code",
   "execution_count": null,
   "id": "ebb40b32",
   "metadata": {},
   "outputs": [],
   "source": [
    "#checking Spread of \"Page Views Per Visit\" vs Converted variable\n",
    "\n",
    "sns.boxplot(x=leads.Converted,y=leads['Page Views Per Visit'])\n",
    "plt.show()\n",
    "\n",
    "Inference\n",
    "\n",
    "Median for converted and unconverted leads is the same.\n",
    "Nothing can be said specifically for lead conversion from Page Views Per Visit"
   ]
  },
  {
   "cell_type": "code",
   "execution_count": null,
   "id": "a17d8f02",
   "metadata": {},
   "outputs": [],
   "source": [
    "#checking missing values in leftover columns/\n",
    "\n",
    "round(100*(leads.isnull().sum()/len(leads.index)),2)\n"
   ]
  },
  {
   "cell_type": "code",
   "execution_count": null,
   "id": "341f1557",
   "metadata": {},
   "outputs": [],
   "source": [
    "Lead Origin                               0.0\n",
    "Lead Source                               0.0\n",
    "Do Not Email                              0.0\n",
    "Converted                                 0.0\n",
    "TotalVisits                               0.0\n",
    "Total Time Spent on Website               0.0\n",
    "Page Views Per Visit                      0.0\n",
    "Last Activity                             0.0\n",
    "Specialization                            0.0\n",
    "What is your current occupation           0.0\n",
    "Tags                                      0.0\n",
    "City                                      0.0\n",
    "A free copy of Mastering The Interview    0.0\n",
    "Last Notable Activity                     0.0\n",
    "dtype: float64\n",
    "There are no missing values in the columns to be analyzed further\n",
    "\n"
   ]
  },
  {
   "cell_type": "code",
   "execution_count": null,
   "id": "f7cd99fc",
   "metadata": {},
   "outputs": [],
   "source": [
    "Dummy Variable Creation:\n"
   ]
  },
  {
   "cell_type": "code",
   "execution_count": null,
   "id": "e32f9ebc",
   "metadata": {},
   "outputs": [],
   "source": [
    "#getting a list of categorical columns\n",
    "\n",
    "cat_cols= leads.select_dtypes(include=['object']).columns\n",
    "cat_cols"
   ]
  },
  {
   "cell_type": "code",
   "execution_count": null,
   "id": "f554f3d2",
   "metadata": {},
   "outputs": [],
   "source": [
    "Index(['Lead Origin', 'Lead Source', 'Do Not Email', 'Last Activity',\n",
    "       'Specialization', 'What is your current occupation', 'Tags', 'City',\n",
    "       'A free copy of Mastering The Interview', 'Last Notable Activity'],\n",
    "      dtype='object')\n"
   ]
  },
  {
   "cell_type": "code",
   "execution_count": null,
   "id": "e614317d",
   "metadata": {},
   "outputs": [],
   "source": [
    "# List of variables to map\n",
    "\n",
    "varlist =  ['A free copy of Mastering The Interview','Do Not Email']\n",
    "\n",
    "# Defining the map function\n",
    "def binary_map(x):\n",
    "    return x.map({'Yes': 1, \"No\": 0})\n",
    "\n",
    "# Applying the function to the housing list\n",
    "leads[varlist] = leads[varlist].apply(binary_map)"
   ]
  },
  {
   "cell_type": "code",
   "execution_count": null,
   "id": "f1fc4e0a",
   "metadata": {},
   "outputs": [],
   "source": [
    "#getting dummies and dropping the first column and adding the results to the master dataframe\n",
    "dummy = pd.get_dummies(leads[['Lead Origin','What is your current occupation',\n",
    "                             'City']], drop_first=True)\n",
    "\n",
    "leads = pd.concat([leads,dummy],1)\n"
   ]
  },
  {
   "cell_type": "code",
   "execution_count": null,
   "id": "1a421e3b",
   "metadata": {},
   "outputs": [],
   "source": [
    "dummy = pd.get_dummies(leads['Specialization'], prefix  = 'Specialization')\n",
    "dummy = dummy.drop(['Specialization_Not Specified'], 1)\n",
    "leads = pd.concat([leads, dummy], axis = 1)\n"
   ]
  },
  {
   "cell_type": "code",
   "execution_count": null,
   "id": "ad461040",
   "metadata": {},
   "outputs": [],
   "source": [
    "dummy = pd.get_dummies(leads['Lead Source'], prefix  = 'Lead Source')\n",
    "dummy = dummy.drop(['Lead Source_Others'], 1)\n",
    "leads = pd.concat([leads, dummy], axis = 1)"
   ]
  },
  {
   "cell_type": "code",
   "execution_count": null,
   "id": "b323c2d8",
   "metadata": {},
   "outputs": [],
   "source": [
    "dummy = pd.get_dummies(leads['Last Activity'], prefix  = 'Last Activity')\n",
    "dummy = dummy.drop(['Last Activity_Others'], 1)\n",
    "leads = pd.concat([leads, dummy], axis = 1)\n"
   ]
  },
  {
   "cell_type": "code",
   "execution_count": null,
   "id": "d42bf22a",
   "metadata": {},
   "outputs": [],
   "source": [
    "dummy = pd.get_dummies(leads['Last Notable Activity'], prefix  = 'Last Notable Activity')\n",
    "dummy = dummy.drop(['Last Notable Activity_Other_Notable_activity'], 1)\n",
    "leads = pd.concat([leads, dummy], axis = 1)\n"
   ]
  },
  {
   "cell_type": "code",
   "execution_count": null,
   "id": "b8876b2f",
   "metadata": {},
   "outputs": [],
   "source": [
    "dummy = pd.get_dummies(leads['Tags'], prefix  = 'Tags')\n",
    "dummy = dummy.drop(['Tags_Not Specified'], 1)\n",
    "leads = pd.concat([leads, dummy], axis = 1)\n"
   ]
  },
  {
   "cell_type": "code",
   "execution_count": null,
   "id": "0a54db03",
   "metadata": {},
   "outputs": [],
   "source": [
    "#dropping the original columns after dummy variable creation\n",
    "\n",
    "leads.drop(cat_cols,1,inplace = True)"
   ]
  },
  {
   "cell_type": "code",
   "execution_count": null,
   "id": "fcf52aa1",
   "metadata": {},
   "outputs": [],
   "source": [
    "leads.head()\n"
   ]
  },
  {
   "cell_type": "code",
   "execution_count": null,
   "id": "cc643e20",
   "metadata": {},
   "outputs": [],
   "source": [
    "Converted\tTotalVisits\tTotal Time Spent on Website\tPage Views Per Visit\tLead Origin_Landing Page Submission\tLead Origin_Lead Add Form\tLead Origin_Lead Import\tWhat is your current occupation_Housewife\tWhat is your current occupation_Other\tWhat is your current occupation_Student\t...\tLast Notable Activity_Olark Chat Conversation\tLast Notable Activity_Page Visited on Website\tLast Notable Activity_SMS Sent\tTags_Busy\tTags_Closed by Horizzon\tTags_Interested in other courses\tTags_Lost to EINS\tTags_Other_Tags\tTags_Ringing\tTags_Will revert after reading the email\n",
    "0\t0\t0.0\t0\t0.0\t0\t0\t0\t0\t0\t0\t...\t0\t0\t0\t0\t0\t1\t0\t0\t0\t0\n",
    "1\t0\t5.0\t674\t2.5\t0\t0\t0\t0\t0\t0\t...\t0\t0\t0\t0\t0\t0\t0\t0\t1\t0\n",
    "2\t1\t2.0\t1532\t2.0\t1\t0\t0\t0\t0\t1\t...\t0\t0\t0\t0\t0\t0\t0\t0\t0\t1\n",
    "3\t0\t1.0\t305\t1.0\t1\t0\t0\t0\t0\t0\t...\t0\t0\t0\t0\t0\t0\t0\t0\t1\t0\n",
    "4\t1\t2.0\t1428\t1.0\t1\t0\t0\t0\t0\t0\t...\t0\t0\t0\t0\t0\t0\t0\t0\t0\t1"
   ]
  },
  {
   "cell_type": "code",
   "execution_count": null,
   "id": "d8757082",
   "metadata": {},
   "outputs": [],
   "source": [
    "Train-Test Split & Logistic Regression Model Building:"
   ]
  },
  {
   "cell_type": "code",
   "execution_count": null,
   "id": "cc28ba76",
   "metadata": {},
   "outputs": [],
   "source": [
    "from sklearn.model_selection import train_test_split\n",
    "\n",
    "# Putting response variable to y\n",
    "y = leads['Converted']\n",
    "\n",
    "y.head()\n",
    "\n",
    "X=leads.drop('Converted', axis=1)\n"
   ]
  },
  {
   "cell_type": "code",
   "execution_count": null,
   "id": "3236fee4",
   "metadata": {},
   "outputs": [],
   "source": [
    "# Splitting the data into train and test\n",
    "X_train, X_test, y_train, y_test = train_test_split(X, y, train_size=0.7, test_size=0.3, random_state=100)\n"
   ]
  },
  {
   "cell_type": "code",
   "execution_count": null,
   "id": "0c896dd4",
   "metadata": {},
   "outputs": [],
   "source": [
    "X_train.info()\n",
    "<class 'pandas.core.frame.DataFrame'>\n",
    "Int64Index: 6267 entries, 9196 to 5825\n",
    "Data columns (total 56 columns):\n",
    "TotalVisits                                             6267 non-null float64\n",
    "Total Time Spent on Website                             6267 non-null int64\n",
    "Page Views Per Visit                                    6267 non-null float64\n",
    "Lead Origin_Landing Page Submission                     6267 non-null uint8\n",
    "Lead Origin_Lead Add Form                               6267 non-null uint8\n",
    "Lead Origin_Lead Import                                 6267 non-null uint8\n",
    "What is your current occupation_Housewife               6267 non-null uint8\n",
    "What is your current occupation_Other                   6267 non-null uint8\n",
    "What is your current occupation_Student                 6267 non-null uint8\n",
    "What is your current occupation_Unemployed              6267 non-null uint8\n",
    "What is your current occupation_Working Professional    6267 non-null uint8\n",
    "City_Other Cities                                       6267 non-null uint8\n",
    "City_Other Cities of Maharashtra                        6267 non-null uint8\n",
    "City_Other Metro Cities                                 6267 non-null uint8\n",
    "City_Thane & Outskirts                                  6267 non-null uint8\n",
    "City_Tier II Cities                                     6267 non-null uint8\n",
    "Specialization_Banking, Investment And Insurance        6267 non-null uint8\n",
    "Specialization_Business Administration                  6267 non-null uint8\n",
    "Specialization_E-Business                               6267 non-null uint8\n",
    "Specialization_E-COMMERCE                               6267 non-null uint8\n",
    "Specialization_International Business                   6267 non-null uint8\n",
    "Specialization_Management_Specializations               6267 non-null uint8\n",
    "Specialization_Media and Advertising                    6267 non-null uint8\n",
    "Specialization_Rural and Agribusiness                   6267 non-null uint8\n",
    "Specialization_Services Excellence                      6267 non-null uint8\n",
    "Specialization_Travel and Tourism                       6267 non-null uint8\n",
    "Lead Source_Direct Traffic                              6267 non-null uint8\n",
    "Lead Source_Google                                      6267 non-null uint8\n",
    "Lead Source_Live Chat                                   6267 non-null uint8\n",
    "Lead Source_Olark Chat                                  6267 non-null uint8\n",
    "Lead Source_Organic Search                              6267 non-null uint8\n",
    "Lead Source_Reference                                   6267 non-null uint8\n",
    "Lead Source_Referral Sites                              6267 non-null uint8\n",
    "Lead Source_Social Media                                6267 non-null uint8\n",
    "Lead Source_Welingak Website                            6267 non-null uint8\n",
    "Last Activity_Converted to Lead                         6267 non-null uint8\n",
    "Last Activity_Email Bounced                             6267 non-null uint8\n",
    "Last Activity_Email Link Clicked                        6267 non-null uint8\n",
    "Last Activity_Email Opened                              6267 non-null uint8\n",
    "Last Activity_Form Submitted on Website                 6267 non-null uint8\n",
    "Last Activity_Olark Chat Conversation                   6267 non-null uint8\n",
    "Last Activity_Page Visited on Website                   6267 non-null uint8\n",
    "Last Activity_SMS Sent                                  6267 non-null uint8\n",
    "Last Notable Activity_Email Link Clicked                6267 non-null uint8\n",
    "Last Notable Activity_Email Opened                      6267 non-null uint8\n",
    "Last Notable Activity_Modified                          6267 non-null uint8\n",
    "Last Notable Activity_Olark Chat Conversation           6267 non-null uint8\n",
    "Last Notable Activity_Page Visited on Website           6267 non-null uint8\n",
    "Last Notable Activity_SMS Sent                          6267 non-null uint8\n",
    "Tags_Busy                                               6267 non-null uint8\n",
    "Tags_Closed by Horizzon                                 6267 non-null uint8\n",
    "Tags_Interested in other courses                        6267 non-null uint8\n",
    "Tags_Lost to EINS                                       6267 non-null uint8\n",
    "Tags_Other_Tags                                         6267 non-null uint8\n",
    "Tags_Ringing                                            6267 non-null uint8\n",
    "Tags_Will revert after reading the email                6267 non-null uint8\n",
    "dtypes: float64(2), int64(1), uint8(53)\n",
    "memory usage: 520.2 KB"
   ]
  },
  {
   "cell_type": "code",
   "execution_count": null,
   "id": "260a69c8",
   "metadata": {},
   "outputs": [],
   "source": [
    "Scaling of Data:"
   ]
  },
  {
   "cell_type": "code",
   "execution_count": null,
   "id": "7ad515c8",
   "metadata": {},
   "outputs": [],
   "source": [
    "#scaling numeric columns\n",
    "\n",
    "from sklearn.preprocessing import StandardScaler\n",
    "\n",
    "scaler = StandardScaler()\n",
    "\n",
    "num_cols=X_train.select_dtypes(include=['float64', 'int64']).columns\n",
    "\n",
    "X_train[num_cols] = scaler.fit_transform(X_train[num_cols])\n",
    "\n",
    "X_train.head()\n"
   ]
  },
  {
   "cell_type": "code",
   "execution_count": null,
   "id": "9db53e8a",
   "metadata": {},
   "outputs": [],
   "source": [
    "\tTotalVisits\tTotal Time Spent on Website\tPage Views Per Visit\tLead Origin_Landing Page Submission\tLead Origin_Lead Add Form\tLead Origin_Lead Import\tWhat is your current occupation_Housewife\tWhat is your current occupation_Other\tWhat is your current occupation_Student\tWhat is your current occupation_Unemployed\t...\tLast Notable Activity_Olark Chat Conversation\tLast Notable Activity_Page Visited on Website\tLast Notable Activity_SMS Sent\tTags_Busy\tTags_Closed by Horizzon\tTags_Interested in other courses\tTags_Lost to EINS\tTags_Other_Tags\tTags_Ringing\tTags_Will revert after reading the email\n",
    "9196\t0.668862\t1.848117\t1.455819\t1\t0\t0\t0\t0\t0\t1\t...\t0\t0\t1\t0\t0\t0\t0\t0\t1\t0\n",
    "4696\t-0.030697\t-0.037832\t0.399961\t1\t0\t0\t0\t0\t0\t1\t...\t0\t0\t1\t0\t0\t0\t0\t0\t1\t0\n",
    "3274\t0.319082\t-0.642138\t-0.127967\t1\t0\t0\t0\t0\t0\t1\t...\t0\t0\t1\t0\t0\t0\t0\t0\t0\t0\n",
    "2164\t-0.380477\t-0.154676\t-0.127967\t0\t0\t0\t0\t0\t0\t1\t...\t0\t0\t0\t0\t0\t1\t0\t0\t0\t0\n",
    "1667\t0.319082\t1.258415\t-0.481679\t0\t0\t0\t0\t0\t0\t1\t...\t0\t0\t0\t0\t0\t0\t0\t0\t0\t1"
   ]
  },
  {
   "cell_type": "code",
   "execution_count": null,
   "id": "9d0d861e",
   "metadata": {},
   "outputs": [],
   "source": [
    "Model Building using Stats Model & RFE:\n"
   ]
  },
  {
   "cell_type": "code",
   "execution_count": null,
   "id": "f5c762d7",
   "metadata": {},
   "outputs": [],
   "source": [
    "import statsmodels.api as sm\n"
   ]
  },
  {
   "cell_type": "code",
   "execution_count": null,
   "id": "9883d389",
   "metadata": {},
   "outputs": [],
   "source": [
    "from sklearn.linear_model import LogisticRegression\n",
    "logreg = LogisticRegression()\n",
    "\n",
    "from sklearn.feature_selection import RFE\n",
    "rfe = RFE(logreg, 15)             # running RFE with 15 variables as output\n",
    "rfe = rfe.fit(X_train, y_train)\n"
   ]
  },
  {
   "cell_type": "code",
   "execution_count": null,
   "id": "ca0ebd5c",
   "metadata": {},
   "outputs": [],
   "source": [
    "rfe.support_"
   ]
  },
  {
   "cell_type": "code",
   "execution_count": null,
   "id": "3b159f3d",
   "metadata": {},
   "outputs": [],
   "source": [
    "array([False,  True, False, False,  True, False, False, False, False,\n",
    "       False, False, False, False, False, False, False, False, False,\n",
    "       False, False, False, False, False, False, False, False,  True,\n",
    "       False, False, False, False, False,  True, False,  True, False,\n",
    "       False, False, False, False, False, False,  True, False, False,\n",
    "        True,  True, False,  True, False,  True,  True,  True,  True,\n",
    "        True,  True])"
   ]
  },
  {
   "cell_type": "code",
   "execution_count": null,
   "id": "7044e004",
   "metadata": {},
   "outputs": [],
   "source": [
    "list(zip(X_train.columns, rfe.support_, rfe.ranking_))"
   ]
  },
  {
   "cell_type": "code",
   "execution_count": null,
   "id": "f06acf69",
   "metadata": {},
   "outputs": [],
   "source": [
    "[('TotalVisits', False, 26),\n",
    " ('Total Time Spent on Website', True, 1),\n",
    " ('Page Views Per Visit', False, 24),\n",
    " ('Lead Origin_Landing Page Submission', False, 10),\n",
    " ('Lead Origin_Lead Add Form', True, 1),\n",
    " ('Lead Origin_Lead Import', False, 16),\n",
    " ('What is your current occupation_Housewife', False, 30),\n",
    " ('What is your current occupation_Other', False, 34),\n",
    " ('What is your current occupation_Student', False, 23),\n",
    " ('What is your current occupation_Unemployed', False, 20),\n",
    " ('What is your current occupation_Working Professional', False, 8),\n",
    " ('City_Other Cities', False, 22),\n",
    " ('City_Other Cities of Maharashtra', False, 37),\n",
    " ('City_Other Metro Cities', False, 40),\n",
    " ('City_Thane & Outskirts', False, 38),\n",
    " ('City_Tier II Cities', False, 27),\n",
    " ('Specialization_Banking, Investment And Insurance', False, 14),\n",
    " ('Specialization_Business Administration', False, 39),\n",
    " ('Specialization_E-Business', False, 35),\n",
    " ('Specialization_E-COMMERCE', False, 21),\n",
    " ('Specialization_International Business', False, 41),\n",
    " ('Specialization_Management_Specializations', False, 36),\n",
    " ('Specialization_Media and Advertising', False, 33),\n",
    " ('Specialization_Rural and Agribusiness', False, 28),\n",
    " ('Specialization_Services Excellence', False, 31),\n",
    " ('Specialization_Travel and Tourism', False, 7),\n",
    " ('Lead Source_Direct Traffic', True, 1),\n",
    " ('Lead Source_Google', False, 3),\n",
    " ('Lead Source_Live Chat', False, 42),\n",
    " ('Lead Source_Olark Chat', False, 32),\n",
    " ('Lead Source_Organic Search', False, 2),\n",
    " ('Lead Source_Reference', False, 13),\n",
    " ('Lead Source_Referral Sites', True, 1),\n",
    " ('Lead Source_Social Media', False, 15),\n",
    " ('Lead Source_Welingak Website', True, 1),\n",
    " ('Last Activity_Converted to Lead', False, 11),\n",
    " ('Last Activity_Email Bounced', False, 5),\n",
    " ('Last Activity_Email Link Clicked', False, 29),\n",
    " ('Last Activity_Email Opened', False, 19),\n",
    " ('Last Activity_Form Submitted on Website', False, 17),\n",
    " ('Last Activity_Olark Chat Conversation', False, 6),\n",
    " ('Last Activity_Page Visited on Website', False, 12),\n",
    " ('Last Activity_SMS Sent', True, 1),\n",
    " ('Last Notable Activity_Email Link Clicked', False, 4),\n",
    " ('Last Notable Activity_Email Opened', False, 18),\n",
    " ('Last Notable Activity_Modified', True, 1),\n",
    " ('Last Notable Activity_Olark Chat Conversation', True, 1),\n",
    " ('Last Notable Activity_Page Visited on Website', False, 25),\n",
    " ('Last Notable Activity_SMS Sent', True, 1),\n",
    " ('Tags_Busy', False, 9),\n",
    " ('Tags_Closed by Horizzon', True, 1),\n",
    " ('Tags_Interested in other courses', True, 1),\n",
    " ('Tags_Lost to EINS', True, 1),\n",
    " ('Tags_Other_Tags', True, 1),\n",
    " ('Tags_Ringing', True, 1),\n",
    " ('Tags_Will revert after reading the email', True, 1)]"
   ]
  },
  {
   "cell_type": "code",
   "execution_count": null,
   "id": "2653f8a4",
   "metadata": {},
   "outputs": [],
   "source": [
    "#list of RFE supported columns\n",
    "col = X_train.columns[rfe.support_]\n",
    "col\n"
   ]
  },
  {
   "cell_type": "code",
   "execution_count": null,
   "id": "ab6ab1ac",
   "metadata": {},
   "outputs": [],
   "source": [
    "Index(['Total Time Spent on Website', 'Lead Origin_Lead Add Form',\n",
    "       'Lead Source_Direct Traffic', 'Lead Source_Referral Sites',\n",
    "       'Lead Source_Welingak Website', 'Last Activity_SMS Sent',\n",
    "       'Last Notable Activity_Modified',\n",
    "       'Last Notable Activity_Olark Chat Conversation',\n",
    "       'Last Notable Activity_SMS Sent', 'Tags_Closed by Horizzon',\n",
    "       'Tags_Interested in other courses', 'Tags_Lost to EINS',\n",
    "       'Tags_Other_Tags', 'Tags_Ringing',\n",
    "       'Tags_Will revert after reading the email'],\n",
    "      dtype='object')"
   ]
  },
  {
   "cell_type": "code",
   "execution_count": null,
   "id": "94a1848d",
   "metadata": {},
   "outputs": [],
   "source": [
    "X_train.columns[~rfe.support_]\n"
   ]
  },
  {
   "cell_type": "code",
   "execution_count": null,
   "id": "b143c60b",
   "metadata": {},
   "outputs": [],
   "source": [
    "Index(['TotalVisits', 'Page Views Per Visit',\n",
    "       'Lead Origin_Landing Page Submission', 'Lead Origin_Lead Import',\n",
    "       'What is your current occupation_Housewife',\n",
    "       'What is your current occupation_Other',\n",
    "       'What is your current occupation_Student',\n",
    "       'What is your current occupation_Unemployed',\n",
    "       'What is your current occupation_Working Professional',\n",
    "       'City_Other Cities', 'City_Other Cities of Maharashtra',\n",
    "       'City_Other Metro Cities', 'City_Thane & Outskirts',\n",
    "       'City_Tier II Cities',\n",
    "       'Specialization_Banking, Investment And Insurance',\n",
    "       'Specialization_Business Administration', 'Specialization_E-Business',\n",
    "       'Specialization_E-COMMERCE', 'Specialization_International Business',\n",
    "       'Specialization_Management_Specializations',\n",
    "       'Specialization_Media and Advertising',\n",
    "       'Specialization_Rural and Agribusiness',\n",
    "       'Specialization_Services Excellence',\n",
    "       'Specialization_Travel and Tourism', 'Lead Source_Google',\n",
    "       'Lead Source_Live Chat', 'Lead Source_Olark Chat',\n",
    "       'Lead Source_Organic Search', 'Lead Source_Reference',\n",
    "       'Lead Source_Social Media', 'Last Activity_Converted to Lead',\n",
    "       'Last Activity_Email Bounced', 'Last Activity_Email Link Clicked',\n",
    "       'Last Activity_Email Opened', 'Last Activity_Form Submitted on Website',\n",
    "       'Last Activity_Olark Chat Conversation',\n",
    "       'Last Activity_Page Visited on Website',\n",
    "       'Last Notable Activity_Email Link Clicked',\n",
    "       'Last Notable Activity_Email Opened',\n",
    "       'Last Notable Activity_Page Visited on Website', 'Tags_Busy'],\n",
    "      dtype='object')\n"
   ]
  },
  {
   "cell_type": "code",
   "execution_count": null,
   "id": "9c414b2d",
   "metadata": {},
   "outputs": [],
   "source": [
    "#BUILDING MODEL #1\n",
    "\n",
    "X_train_sm = sm.add_constant(X_train[col])\n",
    "logm1 = sm.GLM(y_train,X_train_sm, family = sm.families.Binomial())\n",
    "res = logm1.fit()\n",
    "res.summary()"
   ]
  },
  {
   "cell_type": "code",
   "execution_count": null,
   "id": "326aca64",
   "metadata": {},
   "outputs": [],
   "source": [
    "Generalized Linear Model Regression Results\n",
    "Dep. Variable:\tConverted\tNo. Observations:\t6267\n",
    "Model:\tGLM\tDf Residuals:\t6251\n",
    "Model Family:\tBinomial\tDf Model:\t15\n",
    "Link Function:\tlogit\tScale:\t1.0000\n",
    "Method:\tIRLS\tLog-Likelihood:\t-1254.7\n",
    "Date:\tTue, 03 Sep 2019\tDeviance:\t2509.3\n",
    "Time:\t13:06:29\tPearson chi2:\t8.34e+03\n",
    "No. Iterations:\t8\t\t\n",
    "Covariance Type:\tnonrobust\t\t\n",
    "coef\tstd err\tz\tP>|z|\t[0.025\t0.975]\n",
    "const\t-1.1899\t0.088\t-13.480\t0.000\t-1.363\t-1.017\n",
    "Total Time Spent on Website\t0.8970\t0.053\t16.999\t0.000\t0.794\t1.000\n",
    "Lead Origin_Lead Add Form\t1.6712\t0.450\t3.714\t0.000\t0.789\t2.553\n",
    "Lead Source_Direct Traffic\t-0.8320\t0.129\t-6.471\t0.000\t-1.084\t-0.580\n",
    "Lead Source_Referral Sites\t-0.5284\t0.465\t-1.138\t0.255\t-1.439\t0.382\n",
    "Lead Source_Welingak Website\t3.9043\t1.110\t3.518\t0.000\t1.729\t6.079\n",
    "Last Activity_SMS Sent\t1.2373\t0.223\t5.555\t0.000\t0.801\t1.674\n",
    "Last Notable Activity_Modified\t-1.2839\t0.150\t-8.532\t0.000\t-1.579\t-0.989\n",
    "Last Notable Activity_Olark Chat Conversation\t-1.7123\t0.490\t-3.496\t0.000\t-2.672\t-0.752\n",
    "Last Notable Activity_SMS Sent\t1.0151\t0.257\t3.943\t0.000\t0.511\t1.520\n",
    "Tags_Closed by Horizzon\t6.9834\t1.019\t6.853\t0.000\t4.986\t8.981\n",
    "Tags_Interested in other courses\t-2.1641\t0.407\t-5.321\t0.000\t-2.961\t-1.367\n",
    "Tags_Lost to EINS\t5.7302\t0.608\t9.419\t0.000\t4.538\t6.923\n",
    "Tags_Other_Tags\t-2.4417\t0.210\t-11.633\t0.000\t-2.853\t-2.030\n",
    "Tags_Ringing\t-3.5858\t0.243\t-14.752\t0.000\t-4.062\t-3.109\n",
    "Tags_Will revert after reading the email\t4.4263\t0.185\t23.989\t0.000\t4.065\t4.788\n",
    "p-value of variable Lead Source_Referral Sites is high, so we can drop it.\n",
    "\n"
   ]
  },
  {
   "cell_type": "code",
   "execution_count": null,
   "id": "5d38b6ef",
   "metadata": {},
   "outputs": [],
   "source": [
    "#dropping column with high p-value\n",
    "\n",
    "col = col.drop('Lead Source_Referral Sites',1)\n"
   ]
  },
  {
   "cell_type": "code",
   "execution_count": null,
   "id": "3e37c910",
   "metadata": {},
   "outputs": [],
   "source": [
    "#BUILDING MODEL #2\n",
    "\n",
    "X_train_sm = sm.add_constant(X_train[col])\n",
    "logm2 = sm.GLM(y_train,X_train_sm, family = sm.families.Binomial())\n",
    "res = logm2.fit()\n",
    "res.summary()\n"
   ]
  },
  {
   "cell_type": "code",
   "execution_count": null,
   "id": "4f545141",
   "metadata": {},
   "outputs": [],
   "source": [
    "Generalized Linear Model Regression Results\n",
    "Dep. Variable:\tConverted\tNo. Observations:\t6267\n",
    "Model:\tGLM\tDf Residuals:\t6252\n",
    "Model Family:\tBinomial\tDf Model:\t14\n",
    "Link Function:\tlogit\tScale:\t1.0000\n",
    "Method:\tIRLS\tLog-Likelihood:\t-1255.3\n",
    "Date:\tTue, 03 Sep 2019\tDeviance:\t2510.7\n",
    "Time:\t13:06:29\tPearson chi2:\t8.34e+03\n",
    "No. Iterations:\t8\t\t\n",
    "Covariance Type:\tnonrobust\t\t\n",
    "coef\tstd err\tz\tP>|z|\t[0.025\t0.975]\n",
    "const\t-1.2029\t0.088\t-13.729\t0.000\t-1.375\t-1.031\n",
    "Total Time Spent on Website\t0.8963\t0.053\t16.979\t0.000\t0.793\t1.000\n",
    "Lead Origin_Lead Add Form\t1.6795\t0.450\t3.735\t0.000\t0.798\t2.561\n",
    "Lead Source_Direct Traffic\t-0.8224\t0.128\t-6.409\t0.000\t-1.074\t-0.571\n",
    "Lead Source_Welingak Website\t3.9060\t1.110\t3.520\t0.000\t1.731\t6.081\n",
    "Last Activity_SMS Sent\t1.2437\t0.223\t5.584\t0.000\t0.807\t1.680\n",
    "Last Notable Activity_Modified\t-1.2791\t0.150\t-8.501\t0.000\t-1.574\t-0.984\n",
    "Last Notable Activity_Olark Chat Conversation\t-1.7079\t0.489\t-3.491\t0.000\t-2.667\t-0.749\n",
    "Last Notable Activity_SMS Sent\t1.0150\t0.257\t3.943\t0.000\t0.510\t1.520\n",
    "Tags_Closed by Horizzon\t6.9868\t1.019\t6.857\t0.000\t4.990\t8.984\n",
    "Tags_Interested in other courses\t-2.2028\t0.409\t-5.391\t0.000\t-3.004\t-1.402\n",
    "Tags_Lost to EINS\t5.7337\t0.608\t9.426\t0.000\t4.541\t6.926\n",
    "Tags_Other_Tags\t-2.4401\t0.210\t-11.625\t0.000\t-2.852\t-2.029\n",
    "Tags_Ringing\t-3.5818\t0.243\t-14.740\t0.000\t-4.058\t-3.106\n",
    "Tags_Will revert after reading the email\t4.4234\t0.184\t23.993\t0.000\t4.062\t4.785\n",
    "Since 'All' the p-values are less we can check the Variance Inflation Factor to see if there is any correlation between the variables"
   ]
  },
  {
   "cell_type": "code",
   "execution_count": null,
   "id": "4e4655ee",
   "metadata": {},
   "outputs": [],
   "source": [
    "# Check for the VIF values of the feature variables. \n",
    "from statsmodels.stats.outliers_influence import variance_inflation_factor"
   ]
  },
  {
   "cell_type": "code",
   "execution_count": null,
   "id": "565c847c",
   "metadata": {},
   "outputs": [],
   "source": [
    "# Create a dataframe that will contain the names of all the feature variables and their respective VIFs\n",
    "vif = pd.DataFrame()\n",
    "vif['Features'] = X_train[col].columns\n",
    "vif['VIF'] = [variance_inflation_factor(X_train[col].values, i) for i in range(X_train[col].shape[1])]\n",
    "vif['VIF'] = round(vif['VIF'], 2)\n",
    "vif = vif.sort_values(by = \"VIF\", ascending = False)\n",
    "vif\n"
   ]
  },
  {
   "cell_type": "code",
   "execution_count": null,
   "id": "27f70963",
   "metadata": {},
   "outputs": [],
   "source": [
    "Features\tVIF\n",
    "7\tLast Notable Activity_SMS Sent\t6.22\n",
    "4\tLast Activity_SMS Sent\t6.12\n",
    "1\tLead Origin_Lead Add Form\t1.82\n",
    "5\tLast Notable Activity_Modified\t1.69\n",
    "13\tTags_Will revert after reading the email\t1.61\n",
    "2\tLead Source_Direct Traffic\t1.38\n",
    "3\tLead Source_Welingak Website\t1.34\n",
    "11\tTags_Other_Tags\t1.26\n",
    "0\tTotal Time Spent on Website\t1.22\n",
    "8\tTags_Closed by Horizzon\t1.21\n",
    "12\tTags_Ringing\t1.18\n",
    "9\tTags_Interested in other courses\t1.13\n",
    "10\tTags_Lost to EINS\t1.06\n",
    "6\tLast Notable Activity_Olark Chat Conversation\t1.01\n",
    "There is a high correlation between two variables so we drop the variable with the higher valued VIF value\n",
    "\n"
   ]
  },
  {
   "cell_type": "code",
   "execution_count": null,
   "id": "7d044933",
   "metadata": {},
   "outputs": [],
   "source": [
    "#dropping variable with high VIF\n",
    "\n",
    "col = col.drop('Last Notable Activity_SMS Sent',1)\n"
   ]
  },
  {
   "cell_type": "code",
   "execution_count": null,
   "id": "ded943ff",
   "metadata": {},
   "outputs": [],
   "source": [
    "#BUILDING MODEL #3\n",
    "X_train_sm = sm.add_constant(X_train[col])\n",
    "logm3 = sm.GLM(y_train,X_train_sm, family = sm.families.Binomial())\n",
    "res = logm3.fit()\n",
    "res.summary()\n"
   ]
  },
  {
   "cell_type": "code",
   "execution_count": null,
   "id": "83d1c780",
   "metadata": {},
   "outputs": [],
   "source": [
    "Generalized Linear Model Regression Results\n",
    "Dep. Variable:\tConverted\tNo. Observations:\t6267\n",
    "Model:\tGLM\tDf Residuals:\t6253\n",
    "Model Family:\tBinomial\tDf Model:\t13\n",
    "Link Function:\tlogit\tScale:\t1.0000\n",
    "Method:\tIRLS\tLog-Likelihood:\t-1263.3\n",
    "Date:\tTue, 03 Sep 2019\tDeviance:\t2526.6\n",
    "Time:\t13:06:30\tPearson chi2:\t8.51e+03\n",
    "No. Iterations:\t8\t\t\n",
    "Covariance Type:\tnonrobust\t\t\n",
    "coef\tstd err\tz\tP>|z|\t[0.025\t0.975]\n",
    "const\t-1.1179\t0.084\t-13.382\t0.000\t-1.282\t-0.954\n",
    "Total Time Spent on Website\t0.8896\t0.053\t16.907\t0.000\t0.786\t0.993\n",
    "Lead Origin_Lead Add Form\t1.6630\t0.455\t3.657\t0.000\t0.772\t2.554\n",
    "Lead Source_Direct Traffic\t-0.8212\t0.127\t-6.471\t0.000\t-1.070\t-0.572\n",
    "Lead Source_Welingak Website\t3.8845\t1.114\t3.488\t0.000\t1.701\t6.068\n",
    "Last Activity_SMS Sent\t1.9981\t0.113\t17.718\t0.000\t1.777\t2.219\n",
    "Last Notable Activity_Modified\t-1.6525\t0.124\t-13.279\t0.000\t-1.896\t-1.409\n",
    "Last Notable Activity_Olark Chat Conversation\t-1.8023\t0.491\t-3.669\t0.000\t-2.765\t-0.839\n",
    "Tags_Closed by Horizzon\t7.1955\t1.020\t7.053\t0.000\t5.196\t9.195\n",
    "Tags_Interested in other courses\t-2.1318\t0.406\t-5.253\t0.000\t-2.927\t-1.336\n",
    "Tags_Lost to EINS\t5.9177\t0.611\t9.689\t0.000\t4.721\t7.115\n",
    "Tags_Other_Tags\t-2.3737\t0.206\t-11.507\t0.000\t-2.778\t-1.969\n",
    "Tags_Ringing\t-3.4531\t0.238\t-14.532\t0.000\t-3.919\t-2.987\n",
    "Tags_Will revert after reading the email\t4.5070\t0.188\t24.002\t0.000\t4.139\t4.875"
   ]
  },
  {
   "cell_type": "code",
   "execution_count": null,
   "id": "78158251",
   "metadata": {},
   "outputs": [],
   "source": [
    "# Create a dataframe that will contain the names of all the feature variables and their respective VIFs\n",
    "vif = pd.DataFrame()\n",
    "vif['Features'] = X_train[col].columns\n",
    "vif['VIF'] = [variance_inflation_factor(X_train[col].values, i) for i in range(X_train[col].shape[1])]\n",
    "vif['VIF'] = round(vif['VIF'], 2)\n",
    "vif = vif.sort_values(by = \"VIF\", ascending = False)\n",
    "vif\n"
   ]
  },
  {
   "cell_type": "code",
   "execution_count": null,
   "id": "da649e40",
   "metadata": {},
   "outputs": [],
   "source": [
    "Features\tVIF\n",
    "1\tLead Origin_Lead Add Form\t1.82\n",
    "12\tTags_Will revert after reading the email\t1.56\n",
    "4\tLast Activity_SMS Sent\t1.46\n",
    "5\tLast Notable Activity_Modified\t1.40\n",
    "2\tLead Source_Direct Traffic\t1.38\n",
    "3\tLead Source_Welingak Website\t1.34\n",
    "10\tTags_Other_Tags\t1.25\n",
    "0\tTotal Time Spent on Website\t1.22\n",
    "7\tTags_Closed by Horizzon\t1.21\n",
    "11\tTags_Ringing\t1.16\n",
    "8\tTags_Interested in other courses\t1.12\n",
    "9\tTags_Lost to EINS\t1.06\n",
    "6\tLast Notable Activity_Olark Chat Conversation\t1.01\n",
    "So the Values all seem to be in order so now, Moving on to derive the Probabilities, Lead Score, Predictions on Train Data:\n",
    "\n"
   ]
  },
  {
   "cell_type": "code",
   "execution_count": null,
   "id": "14218fe4",
   "metadata": {},
   "outputs": [],
   "source": [
    "# Getting the Predicted values on the train set\n",
    "y_train_pred = res.predict(X_train_sm)\n",
    "y_train_pred[:10]"
   ]
  },
  {
   "cell_type": "code",
   "execution_count": null,
   "id": "5856819b",
   "metadata": {},
   "outputs": [],
   "source": [
    "9196    0.283149\n",
    "4696    0.031440\n",
    "3274    0.576636\n",
    "2164    0.006433\n",
    "1667    0.989105\n",
    "7024    0.130813\n",
    "8018    0.024219\n",
    "778     0.205594\n",
    "6942    0.002678\n",
    "4440    0.096716\n",
    "dtype: float64"
   ]
  },
  {
   "cell_type": "code",
   "execution_count": null,
   "id": "0ece5210",
   "metadata": {},
   "outputs": [],
   "source": [
    "y_train_pred = y_train_pred.values.reshape(-1)\n",
    "y_train_pred[:10]\n"
   ]
  },
  {
   "cell_type": "code",
   "execution_count": null,
   "id": "ead2dc33",
   "metadata": {},
   "outputs": [],
   "source": [
    "array([0.28314859, 0.0314396 , 0.57663553, 0.00643284, 0.98910464,\n",
    "       0.13081306, 0.02421913, 0.20559401, 0.00267787, 0.09671623])\n"
   ]
  },
  {
   "cell_type": "code",
   "execution_count": null,
   "id": "87cf6583",
   "metadata": {},
   "outputs": [],
   "source": [
    "y_train_pred_final = pd.DataFrame({'Converted':y_train.values, 'Converted_prob':y_train_pred})\n",
    "y_train_pred_final['Prospect ID'] = y_train.index\n",
    "y_train_pred_final.head()\n"
   ]
  },
  {
   "cell_type": "code",
   "execution_count": null,
   "id": "7cc42625",
   "metadata": {},
   "outputs": [],
   "source": [
    "Converted\tConverted_prob\tProspect ID\n",
    "0\t1\t0.283149\t9196\n",
    "1\t0\t0.031440\t4696\n",
    "2\t0\t0.576636\t3274\n",
    "3\t0\t0.006433\t2164\n",
    "4\t1\t0.989105\t1667"
   ]
  },
  {
   "cell_type": "code",
   "execution_count": null,
   "id": "269ea62d",
   "metadata": {},
   "outputs": [],
   "source": [
    "y_train_pred_final['Predicted'] = y_train_pred_final.Converted_prob.map(lambda x: 1 if x > 0.5 else 0)\n",
    "\n",
    "# Let's see the head\n",
    "y_train_pred_final.head()"
   ]
  },
  {
   "cell_type": "code",
   "execution_count": null,
   "id": "1f5a721d",
   "metadata": {},
   "outputs": [],
   "source": [
    "\tConverted\tConverted_prob\tProspect ID\tPredicted\n",
    "0\t1\t0.283149\t9196\t0\n",
    "1\t0\t0.031440\t4696\t0\n",
    "2\t0\t0.576636\t3274\t1\n",
    "3\t0\t0.006433\t2164\t0\n",
    "4\t1\t0.989105\t1667\t1"
   ]
  },
  {
   "cell_type": "code",
   "execution_count": null,
   "id": "98c5cd3c",
   "metadata": {},
   "outputs": [],
   "source": [
    "from sklearn import metrics\n",
    "\n",
    "# Confusion matrix \n",
    "confusion = metrics.confusion_matrix(y_train_pred_final.Converted, y_train_pred_final.Predicted )\n",
    "print(confusion)\n",
    "[[3693  189]\n",
    " [ 281 2104]]\n"
   ]
  },
  {
   "cell_type": "code",
   "execution_count": null,
   "id": "279ec5f3",
   "metadata": {},
   "outputs": [],
   "source": [
    "# Let's check the overall accuracy.\n",
    "print(metrics.accuracy_score(y_train_pred_final.Converted, y_train_pred_final.Predicted))\n",
    "0.9250039891495133\n"
   ]
  },
  {
   "cell_type": "code",
   "execution_count": null,
   "id": "e67f6518",
   "metadata": {},
   "outputs": [],
   "source": [
    "TP = confusion[1,1] # true positive \n",
    "TN = confusion[0,0] # true negatives\n",
    "FP = confusion[0,1] # false positives\n",
    "FN = confusion[1,0] # false negatives\n"
   ]
  },
  {
   "cell_type": "code",
   "execution_count": null,
   "id": "1972f4a3",
   "metadata": {},
   "outputs": [],
   "source": [
    "TP = confusion[1,1] # true positive \n",
    "TN = confusion[0,0] # true negatives\n",
    "FP = confusion[0,1] # false positives\n",
    "FN = confusion[1,0] # false negatives\n",
    "# Let's see the sensitivity of our logistic regression model\n",
    "TP / float(TP+FN)\n"
   ]
  },
  {
   "cell_type": "code",
   "execution_count": null,
   "id": "17747cb0",
   "metadata": {},
   "outputs": [],
   "source": [
    "0.8821802935010482"
   ]
  },
  {
   "cell_type": "code",
   "execution_count": null,
   "id": "e5c30505",
   "metadata": {},
   "outputs": [],
   "source": [
    "# Let us calculate specificity\n",
    "TN / float(TN+FP)\n"
   ]
  },
  {
   "cell_type": "code",
   "execution_count": null,
   "id": "e1675844",
   "metadata": {},
   "outputs": [],
   "source": [
    "0.9513137557959814\n"
   ]
  },
  {
   "cell_type": "code",
   "execution_count": null,
   "id": "1162bd19",
   "metadata": {},
   "outputs": [],
   "source": [
    "# Calculate False Postive Rate - predicting conversion when customer does not have convert\n",
    "print(FP/ float(TN+FP))\n",
    "0.04868624420401855\n"
   ]
  },
  {
   "cell_type": "code",
   "execution_count": null,
   "id": "96ccd572",
   "metadata": {},
   "outputs": [],
   "source": [
    "# positive predictive value \n",
    "print (TP / float(TP+FP))\n",
    "0.9175752289576974\n"
   ]
  },
  {
   "cell_type": "code",
   "execution_count": null,
   "id": "7b6dd7f8",
   "metadata": {},
   "outputs": [],
   "source": [
    "# Negative predictive value\n",
    "print (TN / float(TN+ FN))\n",
    "0.9292903875188727"
   ]
  },
  {
   "cell_type": "code",
   "execution_count": null,
   "id": "0f22ddd6",
   "metadata": {},
   "outputs": [],
   "source": [
    "PLOTTING ROC CURVE"
   ]
  },
  {
   "cell_type": "code",
   "execution_count": null,
   "id": "f803234c",
   "metadata": {},
   "outputs": [],
   "source": [
    "def draw_roc( actual, probs ):\n",
    "    fpr, tpr, thresholds = metrics.roc_curve( actual, probs,\n",
    "                                              drop_intermediate = False )\n",
    "    auc_score = metrics.roc_auc_score( actual, probs )\n",
    "    plt.figure(figsize=(5, 5))\n",
    "    plt.plot( fpr, tpr, label='ROC curve (area = %0.2f)' % auc_score )\n",
    "    plt.plot([0, 1], [0, 1], 'k--')\n",
    "    plt.xlim([0.0, 1.0])\n",
    "    plt.ylim([0.0, 1.05])\n",
    "    plt.xlabel('False Positive Rate or [1 - True Negative Rate]')\n",
    "    plt.ylabel('True Positive Rate')\n",
    "    plt.title('Receiver operating characteristic example')\n",
    "    plt.legend(loc=\"lower right\")\n",
    "    plt.show()\n",
    "\n",
    "    return None\n"
   ]
  },
  {
   "cell_type": "code",
   "execution_count": null,
   "id": "079d6613",
   "metadata": {},
   "outputs": [],
   "source": [
    "fpr, tpr, thresholds = metrics.roc_curve( y_train_pred_final.Converted, y_train_pred_final.Converted_prob, drop_intermediate = False )"
   ]
  },
  {
   "cell_type": "code",
   "execution_count": null,
   "id": "7f6c902c",
   "metadata": {},
   "outputs": [],
   "source": [
    "draw_roc(y_train_pred_final.Converted, y_train_pred_final.Converted_prob)\n",
    "\n",
    "The ROC Curve should be a value close to 1. We are getting a good value of 0.97 indicating a good predictive model."
   ]
  },
  {
   "cell_type": "code",
   "execution_count": null,
   "id": "d01ffe58",
   "metadata": {},
   "outputs": [],
   "source": [
    "Finding Optimal Cutoff Point\n",
    "Above we had chosen an arbitrary cut-off value of 0.5. We need to determine the best cut-off value and the below section deals with that:"
   ]
  },
  {
   "cell_type": "code",
   "execution_count": null,
   "id": "9f9dac60",
   "metadata": {},
   "outputs": [],
   "source": [
    "# Let's create columns with different probability cutoffs \n",
    "numbers = [float(x)/10 for x in range(10)]\n",
    "for i in numbers:\n",
    "    y_train_pred_final[i]= y_train_pred_final.Converted_prob.map(lambda x: 1 if x > i else 0)\n",
    "y_train_pred_final.head()\n"
   ]
  },
  {
   "cell_type": "code",
   "execution_count": null,
   "id": "ee5c8f97",
   "metadata": {},
   "outputs": [],
   "source": [
    "\tConverted\tConverted_prob\tProspect ID\tPredicted\t0.0\t0.1\t0.2\t0.3\t0.4\t0.5\t0.6\t0.7\t0.8\t0.9\n",
    "0\t1\t0.283149\t9196\t0\t1\t1\t1\t0\t0\t0\t0\t0\t0\t0\n",
    "1\t0\t0.031440\t4696\t0\t1\t0\t0\t0\t0\t0\t0\t0\t0\t0\n",
    "2\t0\t0.576636\t3274\t1\t1\t1\t1\t1\t1\t1\t0\t0\t0\t0\n",
    "3\t0\t0.006433\t2164\t0\t1\t0\t0\t0\t0\t0\t0\t0\t0\t0\n",
    "4\t1\t0.989105\t1667\t1\t1\t1\t1\t1\t1\t1\t1\t1\t1\t1"
   ]
  },
  {
   "cell_type": "code",
   "execution_count": null,
   "id": "7de6c5bc",
   "metadata": {},
   "outputs": [],
   "source": [
    "# Now let's calculate accuracy sensitivity and specificity for various probability cutoffs.\n",
    "cutoff_df = pd.DataFrame( columns = ['prob','accuracy','sensi','speci'])\n",
    "from sklearn.metrics import confusion_matrix\n",
    "\n",
    "# TP = confusion[1,1] # true positive \n",
    "# TN = confusion[0,0] # true negatives\n",
    "# FP = confusion[0,1] # false positives\n",
    "# FN = confusion[1,0] # false negatives\n",
    "\n",
    "num = [0.0,0.1,0.2,0.3,0.4,0.5,0.6,0.7,0.8,0.9]\n",
    "for i in num:\n",
    "    cm1 = metrics.confusion_matrix(y_train_pred_final.Converted, y_train_pred_final[i] )\n",
    "    total1=sum(sum(cm1))\n",
    "    accuracy = (cm1[0,0]+cm1[1,1])/total1\n",
    "    \n",
    "    speci = cm1[0,0]/(cm1[0,0]+cm1[0,1])\n",
    "    sensi = cm1[1,1]/(cm1[1,0]+cm1[1,1])\n",
    "    cutoff_df.loc[i] =[ i ,accuracy,sensi,speci]\n",
    "print(cutoff_df)\n",
    "     prob  accuracy     sensi     speci\n",
    "0.0   0.0  0.380565  1.000000  0.000000\n",
    "0.1   0.1  0.816180  0.971488  0.720762\n",
    "0.2   0.2  0.901069  0.931237  0.882535\n",
    "0.3   0.3  0.922930  0.916981  0.926584\n",
    "0.4   0.4  0.925802  0.901468  0.940752\n",
    "0.5   0.5  0.925004  0.882180  0.951314\n",
    "0.6   0.6  0.915909  0.828092  0.969861\n",
    "0.7   0.7  0.916228  0.810063  0.981453\n",
    "0.8   0.8  0.906335  0.774843  0.987120\n",
    "0.9   0.9  0.887027  0.718239  0.990726\n"
   ]
  },
  {
   "cell_type": "code",
   "execution_count": null,
   "id": "6c099ca7",
   "metadata": {},
   "outputs": [],
   "source": [
    "# Let's plot accuracy sensitivity and specificity for various probabilities.\n",
    "cutoff_df.plot.line(x='prob', y=['accuracy','sensi','speci'])\n",
    "plt.show()\n"
   ]
  },
  {
   "cell_type": "code",
   "execution_count": null,
   "id": "88e9de57",
   "metadata": {},
   "outputs": [],
   "source": [
    "#### From the curve above, 0.3 is the optimum point to take it as a cutoff probability.\n",
    "\n",
    "y_train_pred_final['final_Predicted'] = y_train_pred_final.Converted_prob.map( lambda x: 1 if x > 0.3 else 0)\n",
    "\n",
    "y_train_pred_final.head()\n"
   ]
  },
  {
   "cell_type": "code",
   "execution_count": null,
   "id": "31696299",
   "metadata": {},
   "outputs": [],
   "source": [
    "\tConverted\tConverted_prob\tProspect ID\tPredicted\t0.0\t0.1\t0.2\t0.3\t0.4\t0.5\t0.6\t0.7\t0.8\t0.9\tfinal_Predicted\n",
    "0\t1\t0.283149\t9196\t0\t1\t1\t1\t0\t0\t0\t0\t0\t0\t0\t0\n",
    "1\t0\t0.031440\t4696\t0\t1\t0\t0\t0\t0\t0\t0\t0\t0\t0\t0\n",
    "2\t0\t0.576636\t3274\t1\t1\t1\t1\t1\t1\t1\t0\t0\t0\t0\t1\n",
    "3\t0\t0.006433\t2164\t0\t1\t0\t0\t0\t0\t0\t0\t0\t0\t0\t0\n",
    "4\t1\t0.989105\t1667\t1\t1\t1\t1\t1\t1\t1\t1\t1\t1\t1\t1"
   ]
  },
  {
   "cell_type": "code",
   "execution_count": null,
   "id": "7c683e82",
   "metadata": {},
   "outputs": [],
   "source": [
    "y_train_pred_final['Lead_Score'] = y_train_pred_final.Converted_prob.map( lambda x: round(x*100))\n",
    "\n",
    "y_train_pred_final[['Converted','Converted_prob','Prospect ID','final_Predicted','Lead_Score']].head()\n"
   ]
  },
  {
   "cell_type": "code",
   "execution_count": null,
   "id": "3f2d3919",
   "metadata": {},
   "outputs": [],
   "source": [
    "\tConverted\tConverted_prob\tProspect ID\tfinal_Predicted\tLead_Score\n",
    "0\t1\t0.283149\t9196\t0\t28\n",
    "1\t0\t0.031440\t4696\t0\t3\n",
    "2\t0\t0.576636\t3274\t1\t58\n",
    "3\t0\t0.006433\t2164\t0\t1\n",
    "4\t1\t0.989105\t1667\t1\t99"
   ]
  },
  {
   "cell_type": "code",
   "execution_count": null,
   "id": "50c89555",
   "metadata": {},
   "outputs": [],
   "source": [
    "# Let's check the overall accuracy.\n",
    "metrics.accuracy_score(y_train_pred_final.Converted, y_train_pred_final.final_Predicted)\n"
   ]
  },
  {
   "cell_type": "code",
   "execution_count": null,
   "id": "51e801eb",
   "metadata": {},
   "outputs": [],
   "source": [
    "0.922929631402585"
   ]
  },
  {
   "cell_type": "code",
   "execution_count": null,
   "id": "025ce7bb",
   "metadata": {},
   "outputs": [],
   "source": [
    "confusion2 = metrics.confusion_matrix(y_train_pred_final.Converted, y_train_pred_final.final_Predicted )\n",
    "confusion2\n"
   ]
  },
  {
   "cell_type": "code",
   "execution_count": null,
   "id": "e896d218",
   "metadata": {},
   "outputs": [],
   "source": [
    "array([[3597,  285],\n",
    "       [ 198, 2187]])\n"
   ]
  },
  {
   "cell_type": "code",
   "execution_count": null,
   "id": "f11539d9",
   "metadata": {},
   "outputs": [],
   "source": [
    "TP = confusion2[1,1] # true positive \n",
    "TN = confusion2[0,0] # true negatives\n",
    "FP = confusion2[0,1] # false positives\n",
    "FN = confusion2[1,0] # false negatives\n"
   ]
  },
  {
   "cell_type": "code",
   "execution_count": null,
   "id": "fb7312d0",
   "metadata": {},
   "outputs": [],
   "source": [
    "# Let's see the sensitivity of our logistic regression model\n",
    "TP / float(TP+FN)\n"
   ]
  },
  {
   "cell_type": "code",
   "execution_count": null,
   "id": "c75cdcda",
   "metadata": {},
   "outputs": [],
   "source": [
    "0.9169811320754717\n"
   ]
  },
  {
   "cell_type": "code",
   "execution_count": null,
   "id": "f32e2151",
   "metadata": {},
   "outputs": [],
   "source": [
    "# Let us calculate specificity\n",
    "TN / float(TN+FP)\n"
   ]
  },
  {
   "cell_type": "code",
   "execution_count": null,
   "id": "be12fcce",
   "metadata": {},
   "outputs": [],
   "source": [
    "0.9265842349304482"
   ]
  },
  {
   "cell_type": "code",
   "execution_count": null,
   "id": "85fdc374",
   "metadata": {},
   "outputs": [],
   "source": [
    "Observation:\n",
    "So as we can see above the model seems to be performing well. The ROC curve has a value of 0.97, which is very good. We have the following values for the Train Data:\n",
    "\n",
    "Accuracy : 92.29%\n",
    "Sensitivity : 91.70%\n",
    "Specificity : 92.66%\n",
    "Some of the other Stats are derived below, indicating the False Positive Rate, Positive Predictive Value,Negative Predictive Values, Precision & Recall."
   ]
  },
  {
   "cell_type": "code",
   "execution_count": null,
   "id": "f3a8b00e",
   "metadata": {},
   "outputs": [],
   "source": [
    "# Calculate False Postive Rate - predicting conversion when customer does not have convert\n",
    "print(FP/ float(TN+FP))\n",
    "0.07341576506955177"
   ]
  },
  {
   "cell_type": "code",
   "execution_count": null,
   "id": "5bfc6529",
   "metadata": {},
   "outputs": [],
   "source": [
    "# Positive predictive value \n",
    "print (TP / float(TP+FP))\n",
    "0.8847087378640777"
   ]
  },
  {
   "cell_type": "code",
   "execution_count": null,
   "id": "fa63376b",
   "metadata": {},
   "outputs": [],
   "source": [
    "# Negative predictive value\n",
    "print (TN / float(TN+ FN))\n",
    "0.9478260869565217"
   ]
  },
  {
   "cell_type": "code",
   "execution_count": null,
   "id": "388040aa",
   "metadata": {},
   "outputs": [],
   "source": [
    "#Looking at the confusion matrix again\n",
    "\n",
    "confusion = metrics.confusion_matrix(y_train_pred_final.Converted, y_train_pred_final.final_Predicted )\n",
    "confusion\n"
   ]
  },
  {
   "cell_type": "code",
   "execution_count": null,
   "id": "f29aaf6b",
   "metadata": {},
   "outputs": [],
   "source": [
    "array([[3597,  285],\n",
    "       [ 198, 2187]])\n"
   ]
  },
  {
   "cell_type": "code",
   "execution_count": null,
   "id": "b2f9bab3",
   "metadata": {},
   "outputs": [],
   "source": [
    "##### Precision\n",
    "TP / TP + FP\n",
    "\n",
    "confusion[1,1]/(confusion[0,1]+confusion[1,1])"
   ]
  },
  {
   "cell_type": "code",
   "execution_count": null,
   "id": "57c46d6c",
   "metadata": {},
   "outputs": [],
   "source": [
    "0.8847087378640777"
   ]
  },
  {
   "cell_type": "code",
   "execution_count": null,
   "id": "8cd379ba",
   "metadata": {},
   "outputs": [],
   "source": [
    "##### Recall\n",
    "TP / TP + FN\n",
    "\n",
    "confusion[1,1]/(confusion[1,0]+confusion[1,1])"
   ]
  },
  {
   "cell_type": "code",
   "execution_count": null,
   "id": "a9e3347b",
   "metadata": {},
   "outputs": [],
   "source": [
    "0.9169811320754717"
   ]
  },
  {
   "cell_type": "code",
   "execution_count": null,
   "id": "a22d04ea",
   "metadata": {},
   "outputs": [],
   "source": [
    "from sklearn.metrics import precision_score, recall_score"
   ]
  },
  {
   "cell_type": "code",
   "execution_count": null,
   "id": "afc14e00",
   "metadata": {},
   "outputs": [],
   "source": [
    "precision_score(y_train_pred_final.Converted , y_train_pred_final.final_Predicted)\n"
   ]
  },
  {
   "cell_type": "code",
   "execution_count": null,
   "id": "500dab8c",
   "metadata": {},
   "outputs": [],
   "source": [
    "0.8847087378640777"
   ]
  },
  {
   "cell_type": "code",
   "execution_count": null,
   "id": "4967dcc4",
   "metadata": {},
   "outputs": [],
   "source": [
    "recall_score(y_train_pred_final.Converted, y_train_pred_final.final_Predicted)\n"
   ]
  },
  {
   "cell_type": "code",
   "execution_count": null,
   "id": "6d1090b0",
   "metadata": {},
   "outputs": [],
   "source": [
    "0.9169811320754717"
   ]
  },
  {
   "cell_type": "code",
   "execution_count": null,
   "id": "1bcc84b5",
   "metadata": {},
   "outputs": [],
   "source": [
    "from sklearn.metrics import precision_recall_curve"
   ]
  },
  {
   "cell_type": "code",
   "execution_count": null,
   "id": "00474faa",
   "metadata": {},
   "outputs": [],
   "source": [
    "y_train_pred_final.Converted, y_train_pred_final.final_Predicted\n",
    "p, r, thresholds = precision_recall_curve(y_train_pred_final.Converted, y_train_pred_final.Converted_prob)"
   ]
  },
  {
   "cell_type": "code",
   "execution_count": null,
   "id": "8be3f42f",
   "metadata": {},
   "outputs": [],
   "source": [
    "plt.plot(thresholds, p[:-1], \"g-\")\n",
    "plt.plot(thresholds, r[:-1], \"r-\")\n",
    "plt.show()\n",
    "\n"
   ]
  },
  {
   "cell_type": "code",
   "execution_count": null,
   "id": "81cabf06",
   "metadata": {},
   "outputs": [],
   "source": [
    "#scaling test set\n",
    "\n",
    "num_cols=X_test.select_dtypes(include=['float64', 'int64']).columns\n",
    "\n",
    "X_test[num_cols] = scaler.fit_transform(X_test[num_cols])\n",
    "\n",
    "X_test.head()\n"
   ]
  },
  {
   "cell_type": "code",
   "execution_count": null,
   "id": "d44f7746",
   "metadata": {},
   "outputs": [],
   "source": [
    "\tTotalVisits\tTotal Time Spent on Website\tPage Views Per Visit\tLead Origin_Landing Page Submission\tLead Origin_Lead Add Form\tLead Origin_Lead Import\tWhat is your current occupation_Housewife\tWhat is your current occupation_Other\tWhat is your current occupation_Student\tWhat is your current occupation_Unemployed\t...\tLast Notable Activity_Olark Chat Conversation\tLast Notable Activity_Page Visited on Website\tLast Notable Activity_SMS Sent\tTags_Busy\tTags_Closed by Horizzon\tTags_Interested in other courses\tTags_Lost to EINS\tTags_Other_Tags\tTags_Ringing\tTags_Will revert after reading the email\n",
    "7681\t0.575687\t-0.311318\t0.092860\t1\t0\t0\t0\t0\t0\t1\t...\t0\t0\t1\t0\t0\t0\t0\t0\t1\t0\n",
    "984\t-0.090676\t-0.550262\t0.356568\t1\t0\t0\t0\t0\t0\t1\t...\t0\t0\t0\t0\t0\t0\t0\t1\t0\t0\n",
    "8135\t-0.423857\t0.812462\t-0.170849\t1\t0\t0\t0\t0\t0\t1\t...\t0\t0\t1\t0\t0\t0\t0\t0\t0\t0\n",
    "6915\t0.242505\t-0.628665\t-0.170849\t1\t0\t0\t0\t0\t0\t1\t...\t0\t0\t0\t0\t0\t0\t0\t0\t1\t0\n",
    "2712\t-0.090676\t-0.421456\t0.356568\t0\t0\t0\t0\t0\t0\t1\t...\t0\t0\t0\t0\t0\t0\t0\t0\t0\t1"
   ]
  },
  {
   "cell_type": "code",
   "execution_count": null,
   "id": "499d1cdb",
   "metadata": {},
   "outputs": [],
   "source": [
    "X_test = X_test[col]\n",
    "X_test.head()\n"
   ]
  },
  {
   "cell_type": "code",
   "execution_count": null,
   "id": "7fdbb10b",
   "metadata": {},
   "outputs": [],
   "source": [
    "\tTotal Time Spent on Website\tLead Origin_Lead Add Form\tLead Source_Direct Traffic\tLead Source_Welingak Website\tLast Activity_SMS Sent\tLast Notable Activity_Modified\tLast Notable Activity_Olark Chat Conversation\tTags_Closed by Horizzon\tTags_Interested in other courses\tTags_Lost to EINS\tTags_Other_Tags\tTags_Ringing\tTags_Will revert after reading the email\n",
    "7681\t-0.311318\t0\t1\t0\t1\t0\t0\t0\t0\t0\t0\t1\t0\n",
    "984\t-0.550262\t0\t0\t0\t1\t1\t0\t0\t0\t0\t1\t0\t0\n",
    "8135\t0.812462\t0\t1\t0\t1\t0\t0\t0\t0\t0\t0\t0\t0\n",
    "6915\t-0.628665\t0\t0\t0\t0\t0\t0\t0\t0\t0\t0\t1\t0\n",
    "2712\t-0.421456\t0\t0\t0\t0\t0\t0\t0\t0\t0\t0\t0\t1"
   ]
  },
  {
   "cell_type": "code",
   "execution_count": null,
   "id": "9f6b85c5",
   "metadata": {},
   "outputs": [],
   "source": [
    "X_test_sm = sm.add_constant(X_test)\n"
   ]
  },
  {
   "cell_type": "code",
   "execution_count": null,
   "id": "11de2202",
   "metadata": {},
   "outputs": [],
   "source": [
    "PREDICTIONS ON TEST SET"
   ]
  },
  {
   "cell_type": "code",
   "execution_count": null,
   "id": "c95cd5e9",
   "metadata": {},
   "outputs": [],
   "source": [
    "y_test_pred = res.predict(X_test_sm)"
   ]
  },
  {
   "cell_type": "code",
   "execution_count": null,
   "id": "540ceaa0",
   "metadata": {},
   "outputs": [],
   "source": [
    "y_test_pred[:10]\n"
   ]
  },
  {
   "cell_type": "code",
   "execution_count": null,
   "id": "5ca4c424",
   "metadata": {},
   "outputs": [],
   "source": [
    "7681    0.024819\n",
    "984     0.025692\n",
    "8135    0.686054\n",
    "6915    0.005880\n",
    "2712    0.953208\n",
    "244     0.002398\n",
    "4698    0.014697\n",
    "8287    0.027549\n",
    "6791    0.981608\n",
    "8970    0.005703\n",
    "dtype: float64\n"
   ]
  },
  {
   "cell_type": "code",
   "execution_count": null,
   "id": "295b1ef2",
   "metadata": {},
   "outputs": [],
   "source": [
    "# Converting y_pred to a dataframe which is an array\n",
    "y_pred_1 = pd.DataFrame(y_test_pred)\n"
   ]
  },
  {
   "cell_type": "code",
   "execution_count": null,
   "id": "7b39c51b",
   "metadata": {},
   "outputs": [],
   "source": [
    "# Let's see the head\n",
    "y_pred_1.head()\n"
   ]
  },
  {
   "cell_type": "code",
   "execution_count": null,
   "id": "50294d57",
   "metadata": {},
   "outputs": [],
   "source": [
    "\t0\n",
    "7681\t0.024819\n",
    "984\t0.025692\n",
    "8135\t0.686054\n",
    "6915\t0.005880\n",
    "2712\t0.953208"
   ]
  },
  {
   "cell_type": "code",
   "execution_count": null,
   "id": "0f7e6a5c",
   "metadata": {},
   "outputs": [],
   "source": [
    "# Converting y_test to dataframe\n",
    "y_test_df = pd.DataFrame(y_test)\n"
   ]
  },
  {
   "cell_type": "code",
   "execution_count": null,
   "id": "dde6b4fc",
   "metadata": {},
   "outputs": [],
   "source": [
    "# Putting CustID to index\n",
    "y_test_df['Prospect ID'] = y_test_df.index\n"
   ]
  },
  {
   "cell_type": "code",
   "execution_count": null,
   "id": "5786eb5a",
   "metadata": {},
   "outputs": [],
   "source": [
    "# Removing index for both dataframes to append them side by side \n",
    "y_pred_1.reset_index(drop=True, inplace=True)\n",
    "y_test_df.reset_index(drop=True, inplace=True)\n"
   ]
  },
  {
   "cell_type": "code",
   "execution_count": null,
   "id": "63feb209",
   "metadata": {},
   "outputs": [],
   "source": [
    "# Appending y_test_df and y_pred_1\n",
    "y_pred_final = pd.concat([y_test_df, y_pred_1],axis=1)\n"
   ]
  },
  {
   "cell_type": "code",
   "execution_count": null,
   "id": "8449bc21",
   "metadata": {},
   "outputs": [],
   "source": [
    "y_pred_final.head()\n"
   ]
  },
  {
   "cell_type": "code",
   "execution_count": null,
   "id": "58b96ac8",
   "metadata": {},
   "outputs": [],
   "source": [
    "\tConverted\tProspect ID\t0\n",
    "0\t0\t7681\t0.024819\n",
    "1\t0\t984\t0.025692\n",
    "2\t0\t8135\t0.686054\n",
    "3\t0\t6915\t0.005880\n",
    "4\t1\t2712\t0.953208"
   ]
  },
  {
   "cell_type": "code",
   "execution_count": null,
   "id": "6df5572f",
   "metadata": {},
   "outputs": [],
   "source": [
    "# Renaming the column \n",
    "y_pred_final= y_pred_final.rename(columns={ 0 : 'Converted_prob'})\n"
   ]
  },
  {
   "cell_type": "code",
   "execution_count": null,
   "id": "91d6b8f9",
   "metadata": {},
   "outputs": [],
   "source": [
    "y_pred_final.head()\n"
   ]
  },
  {
   "cell_type": "code",
   "execution_count": null,
   "id": "e0690731",
   "metadata": {},
   "outputs": [],
   "source": [
    "\tConverted\tProspect ID\tConverted_prob\n",
    "0\t0\t7681\t0.024819\n",
    "1\t0\t984\t0.025692\n",
    "2\t0\t8135\t0.686054\n",
    "3\t0\t6915\t0.005880\n",
    "4\t1\t2712\t0.953208"
   ]
  },
  {
   "cell_type": "code",
   "execution_count": null,
   "id": "bdc5ce54",
   "metadata": {},
   "outputs": [],
   "source": [
    "# Rearranging the columns\n",
    "y_pred_final = y_pred_final[['Prospect ID','Converted','Converted_prob']]\n",
    "y_pred_final['Lead_Score'] = y_pred_final.Converted_prob.map( lambda x: round(x*100))\n"
   ]
  },
  {
   "cell_type": "code",
   "execution_count": null,
   "id": "ecbe452d",
   "metadata": {},
   "outputs": [],
   "source": [
    "# Let's see the head of y_pred_final\n",
    "y_pred_final.head()\n"
   ]
  },
  {
   "cell_type": "code",
   "execution_count": null,
   "id": "5b5ea234",
   "metadata": {},
   "outputs": [],
   "source": [
    "\tProspect ID\tConverted\tConverted_prob\tLead_Score\n",
    "0\t7681\t0\t0.024819\t2\n",
    "1\t984\t0\t0.025692\t3\n",
    "2\t8135\t0\t0.686054\t69\n",
    "3\t6915\t0\t0.005880\t1\n",
    "4\t2712\t1\t0.953208\t95"
   ]
  },
  {
   "cell_type": "code",
   "execution_count": null,
   "id": "af1c4f73",
   "metadata": {},
   "outputs": [],
   "source": [
    "y_pred_final['final_Predicted'] = y_pred_final.Converted_prob.map(lambda x: 1 if x > 0.3 else 0)\n"
   ]
  },
  {
   "cell_type": "code",
   "execution_count": null,
   "id": "e3e1c49a",
   "metadata": {},
   "outputs": [],
   "source": [
    "y_pred_final.head()\n"
   ]
  },
  {
   "cell_type": "code",
   "execution_count": null,
   "id": "092abf5b",
   "metadata": {},
   "outputs": [],
   "source": [
    "\tProspect ID\tConverted\tConverted_prob\tLead_Score\tfinal_Predicted\n",
    "0\t7681\t0\t0.024819\t2\t0\n",
    "1\t984\t0\t0.025692\t3\t0\n",
    "2\t8135\t0\t0.686054\t69\t1\n",
    "3\t6915\t0\t0.005880\t1\t0\n",
    "4\t2712\t1\t0.953208\t95\t1"
   ]
  },
  {
   "cell_type": "code",
   "execution_count": null,
   "id": "8a2c6da9",
   "metadata": {},
   "outputs": [],
   "source": [
    "# Let's check the overall accuracy.\n",
    "metrics.accuracy_score(y_pred_final.Converted, y_pred_final.final_Predicted)\n"
   ]
  },
  {
   "cell_type": "code",
   "execution_count": null,
   "id": "e8ce97d7",
   "metadata": {},
   "outputs": [],
   "source": [
    "0.9277736411020104"
   ]
  },
  {
   "cell_type": "code",
   "execution_count": null,
   "id": "57ff39b2",
   "metadata": {},
   "outputs": [],
   "source": [
    "confusion2 = metrics.confusion_matrix(y_pred_final.Converted, y_pred_final.final_Predicted )\n",
    "confusion2\n"
   ]
  },
  {
   "cell_type": "code",
   "execution_count": null,
   "id": "a77eb942",
   "metadata": {},
   "outputs": [],
   "source": [
    "array([[1563,  113],\n",
    "       [  81,  929]])\n"
   ]
  },
  {
   "cell_type": "code",
   "execution_count": null,
   "id": "1bf916fd",
   "metadata": {},
   "outputs": [],
   "source": [
    "TP = confusion2[1,1] # true positive \n",
    "TN = confusion2[0,0] # true negatives\n",
    "FP = confusion2[0,1] # false positives\n",
    "FN = confusion2[1,0] # false negatives\n"
   ]
  },
  {
   "cell_type": "code",
   "execution_count": null,
   "id": "4684ef11",
   "metadata": {},
   "outputs": [],
   "source": [
    "# Let's see the sensitivity of our logistic regression model\n",
    "TP / float(TP+FN)"
   ]
  },
  {
   "cell_type": "code",
   "execution_count": null,
   "id": "6e057c8b",
   "metadata": {},
   "outputs": [],
   "source": [
    "0.9198019801980198\n"
   ]
  },
  {
   "cell_type": "code",
   "execution_count": null,
   "id": "3765bf5e",
   "metadata": {},
   "outputs": [],
   "source": [
    "# Let us calculate specificity\n",
    "TN / float(TN+FP)\n"
   ]
  },
  {
   "cell_type": "code",
   "execution_count": null,
   "id": "d49d69b9",
   "metadata": {},
   "outputs": [],
   "source": [
    "0.9325775656324582\n"
   ]
  },
  {
   "cell_type": "code",
   "execution_count": null,
   "id": "5473d28e",
   "metadata": {},
   "outputs": [],
   "source": [
    "precision_score(y_pred_final.Converted , y_pred_final.final_Predicted)\n"
   ]
  },
  {
   "cell_type": "code",
   "execution_count": null,
   "id": "855a8127",
   "metadata": {},
   "outputs": [],
   "source": [
    "0.8915547024952015"
   ]
  },
  {
   "cell_type": "code",
   "execution_count": null,
   "id": "8fb1be7f",
   "metadata": {},
   "outputs": [],
   "source": [
    "recall_score(y_pred_final.Converted, y_pred_final.final_Predicted)\n"
   ]
  },
  {
   "cell_type": "code",
   "execution_count": null,
   "id": "691a8a6b",
   "metadata": {},
   "outputs": [],
   "source": [
    "0.9198019801980198\n"
   ]
  },
  {
   "cell_type": "code",
   "execution_count": null,
   "id": "1e176166",
   "metadata": {},
   "outputs": [],
   "source": [
    "Observation:\n",
    "After running the model on the Test Data these are the figures we obtain:\n",
    "\n",
    "Accuracy : 92.78%\n",
    "Sensitivity : 91.98%\n",
    "Specificity : 93.26%"
   ]
  },
  {
   "cell_type": "code",
   "execution_count": null,
   "id": "bbfa7376",
   "metadata": {},
   "outputs": [],
   "source": [
    "Final Observation:\n",
    "Let us compare the values obtained for Train & Test:\n",
    "\n"
   ]
  },
  {
   "cell_type": "code",
   "execution_count": null,
   "id": "312d190b",
   "metadata": {},
   "outputs": [],
   "source": [
    "Train Data: \n",
    "Accuracy : 92.29%\n",
    "Sensitivity : 91.70%\n",
    "Specificity : 92.66%"
   ]
  },
  {
   "cell_type": "code",
   "execution_count": null,
   "id": "4118a3bf",
   "metadata": {},
   "outputs": [],
   "source": [
    "Test Data: \n",
    "Accuracy : 92.78%\n",
    "Sensitivity : 91.98%\n",
    "Specificity : 93.26%\n",
    "The Model seems to predict the Conversion Rate very well and we should be able to give the CEO confidence in making good calls based on this model\n",
    "\n"
   ]
  },
  {
   "cell_type": "code",
   "execution_count": null,
   "id": "e2d03c46",
   "metadata": {},
   "outputs": [],
   "source": []
  },
  {
   "cell_type": "code",
   "execution_count": null,
   "id": "819b34cb",
   "metadata": {},
   "outputs": [],
   "source": []
  },
  {
   "cell_type": "code",
   "execution_count": null,
   "id": "47c5fd55",
   "metadata": {},
   "outputs": [],
   "source": []
  },
  {
   "cell_type": "code",
   "execution_count": null,
   "id": "53f3227b",
   "metadata": {},
   "outputs": [],
   "source": []
  },
  {
   "cell_type": "code",
   "execution_count": null,
   "id": "38ed66ae",
   "metadata": {},
   "outputs": [],
   "source": []
  },
  {
   "cell_type": "code",
   "execution_count": null,
   "id": "daf5d02f",
   "metadata": {},
   "outputs": [],
   "source": []
  },
  {
   "cell_type": "code",
   "execution_count": null,
   "id": "70cf8b70",
   "metadata": {},
   "outputs": [],
   "source": []
  },
  {
   "cell_type": "code",
   "execution_count": null,
   "id": "4a2af3fe",
   "metadata": {},
   "outputs": [],
   "source": []
  },
  {
   "cell_type": "code",
   "execution_count": null,
   "id": "ba5d807f",
   "metadata": {},
   "outputs": [],
   "source": []
  },
  {
   "cell_type": "code",
   "execution_count": null,
   "id": "e73a0a65",
   "metadata": {},
   "outputs": [],
   "source": []
  },
  {
   "cell_type": "code",
   "execution_count": null,
   "id": "c93f9b4a",
   "metadata": {},
   "outputs": [],
   "source": []
  },
  {
   "cell_type": "code",
   "execution_count": null,
   "id": "0945574e",
   "metadata": {},
   "outputs": [],
   "source": []
  },
  {
   "cell_type": "code",
   "execution_count": null,
   "id": "69c69dd3",
   "metadata": {},
   "outputs": [],
   "source": []
  }
 ],
 "metadata": {
  "kernelspec": {
   "display_name": "Python 3 (ipykernel)",
   "language": "python",
   "name": "python3"
  },
  "language_info": {
   "codemirror_mode": {
    "name": "ipython",
    "version": 3
   },
   "file_extension": ".py",
   "mimetype": "text/x-python",
   "name": "python",
   "nbconvert_exporter": "python",
   "pygments_lexer": "ipython3",
   "version": "3.9.12"
  }
 },
 "nbformat": 4,
 "nbformat_minor": 5
}
